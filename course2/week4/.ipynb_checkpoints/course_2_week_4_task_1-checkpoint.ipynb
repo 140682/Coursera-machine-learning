{
 "cells": [
  {
   "cell_type": "code",
   "execution_count": 176,
   "metadata": {
    "collapsed": false
   },
   "outputs": [],
   "source": [
    "import matplotlib.pyplot as plt\n",
    "from sklearn import cross_validation, datasets, metrics, tree,ensemble\n",
    "from sklearn.cross_validation import cross_val_score\n",
    "import numpy as np\n",
    "import math\n",
    "import pandas\n",
    "from sklearn.grid_search import GridSearchCV\n",
    "from pandas.tools.plotting import scatter_matrix"
   ]
  },
  {
   "cell_type": "code",
   "execution_count": 85,
   "metadata": {
    "collapsed": false
   },
   "outputs": [
    {
     "data": {
      "image/png": "[encoded data removed]",
      "text/plain": [
       "<matplotlib.figure.Figure at 0x215bcaf8dd8>"
      ]
     },
     "metadata": {},
     "output_type": "display_data"
    }
   ],
   "source": [
    "#Load the digits dataset\n",
    "digits = datasets.load_digits()\n",
    "\n",
    "#Display the first digit\n",
    "plt.figure(1, figsize=(3, 3))\n",
    "plt.imshow(digits.images[-1], cmap=plt.cm.gray_r, interpolation='nearest')\n",
    "plt.show()"
   ]
  },
  {
   "cell_type": "code",
   "execution_count": 86,
   "metadata": {
    "collapsed": false
   },
   "outputs": [],
   "source": [
    "X=digits.data\n",
    "y=digits.target\n",
    "train_data, test_data, train_labels, test_labels = cross_validation.train_test_split(digits.data, \n",
    "                                                                                     digits.target, \n",
    "                                                                                     test_size = 0.3,\n",
    "                                                                                     random_state = 1)"
   ]
  },
  {
   "cell_type": "code",
   "execution_count": 87,
   "metadata": {
    "collapsed": true
   },
   "outputs": [],
   "source": [
    "def test_clf(X,y,clf):\n",
    "    clf.fit(X, y)\n",
    "    scores = cross_val_score(clf, X, y, cv=10)\n",
    "    return scores.mean()"
   ]
  },
  {
   "cell_type": "code",
   "execution_count": 88,
   "metadata": {
    "collapsed": false
   },
   "outputs": [
    {
     "data": {
      "text/plain": [
       "0.83361910017445717"
      ]
     },
     "execution_count": 88,
     "metadata": {},
     "output_type": "execute_result"
    }
   ],
   "source": [
    "DT_clf = tree.DecisionTreeClassifier()\n",
    "test_clf(X,y,DT_clf)"
   ]
  },
  {
   "cell_type": "markdown",
   "metadata": {},
   "source": [
    "# ответ в пункте 1 = 0.83361910017445717"
   ]
  },
  {
   "cell_type": "code",
   "execution_count": 89,
   "metadata": {
    "collapsed": false
   },
   "outputs": [
    {
     "data": {
      "text/plain": [
       "0.92156126960200591"
      ]
     },
     "execution_count": 89,
     "metadata": {},
     "output_type": "execute_result"
    }
   ],
   "source": [
    "B_clf=ensemble.BaggingClassifier(base_estimator=DT_clf,n_estimators=100)\n",
    "test_clf(X,y,B_clf)"
   ]
  },
  {
   "cell_type": "markdown",
   "metadata": {},
   "source": [
    "# ответ в пункте 2 = 0.92156126960200591"
   ]
  },
  {
   "cell_type": "code",
   "execution_count": 90,
   "metadata": {
    "collapsed": false
   },
   "outputs": [
    {
     "data": {
      "text/plain": [
       "0.93933062852919957"
      ]
     },
     "execution_count": 90,
     "metadata": {},
     "output_type": "execute_result"
    }
   ],
   "source": [
    "params_qty=math.sqrt(X.shape[1])\n",
    "B_MF_clf=ensemble.BaggingClassifier(base_estimator=DT_clf,n_estimators=100,max_features=int(params_qty))\n",
    "test_clf(X,y,B_MF_clf)"
   ]
  },
  {
   "cell_type": "markdown",
   "metadata": {},
   "source": [
    "# ответ в пункте 3 = 0.93933062852919957"
   ]
  },
  {
   "cell_type": "code",
   "execution_count": 91,
   "metadata": {
    "collapsed": false
   },
   "outputs": [
    {
     "data": {
      "text/plain": [
       "0.92986192950280644"
      ]
     },
     "execution_count": 91,
     "metadata": {},
     "output_type": "execute_result"
    }
   ],
   "source": [
    "DT_MF_clf = tree.DecisionTreeClassifier(max_features=int(params_qty))\n",
    "B_MF2_clf=ensemble.BaggingClassifier(base_estimator=DT_MF_clf,n_estimators=100,max_features=int(params_qty))\n",
    "test_clf(X,y,B_MF2_clf)"
   ]
  },
  {
   "cell_type": "markdown",
   "metadata": {},
   "source": [
    "# ответ в пункте 4 = 0.92986192950280644"
   ]
  },
  {
   "cell_type": "code",
   "execution_count": 92,
   "metadata": {
    "collapsed": false
   },
   "outputs": [
    {
     "data": {
      "text/plain": [
       "0.9483266796936981"
      ]
     },
     "execution_count": 92,
     "metadata": {},
     "output_type": "execute_result"
    }
   ],
   "source": [
    "rf_classifier=ensemble.RandomForestClassifier(n_estimators = 100)\n",
    "test_clf(X,y,rf_classifier)"
   ]
  },
  {
   "cell_type": "code",
   "execution_count": 227,
   "metadata": {
    "collapsed": false
   },
   "outputs": [],
   "source": [
    "# 5\n",
    "# use a full grid over all parameters\n",
    "param_grid = {#\"max_depth\": [1,5,None],\n",
    "                \"max_depth\": [1,5,10,15,20,None],\n",
    "              #\"max_features\": [1,5,10,15,40,50,60],\n",
    "                \"max_features\": [10],\n",
    "              #\"n_estimators\":[5,10,15,50,80,100,120]\n",
    "                \"n_estimators\":[100]\n",
    "             }\n",
    "\n",
    "# run grid search\n",
    "grid_search = GridSearchCV(rf_classifier, param_grid=param_grid)\n",
    "grid_search.fit(X, y)\n",
    "scores=pandas.DataFrame(columns=['mean','max_depth','max_features','n_estimators'])\n",
    "i=0\n",
    "for item in grid_search.grid_scores_:\n",
    "    scores.loc[i]=[item[1],item[0]['max_depth'],item[0]['max_features'],item[0]['n_estimators']]\n",
    "    i=i+1\n",
    "scores.head(100)\n",
    "scores.max_depth.fillna('NoLim',inplace=True)"
   ]
  },
  {
   "cell_type": "code",
   "execution_count": 228,
   "metadata": {
    "collapsed": false
   },
   "outputs": [
    {
     "data": {
      "text/html": [
       "<div>\n",
       "<table border=\"1\" class=\"dataframe\">\n",
       "  <thead>\n",
       "    <tr style=\"text-align: right;\">\n",
       "      <th></th>\n",
       "      <th>max_depth</th>\n",
       "      <th>mean</th>\n",
       "    </tr>\n",
       "  </thead>\n",
       "  <tbody>\n",
       "    <tr>\n",
       "      <th>0</th>\n",
       "      <td>1</td>\n",
       "      <td>0.668893</td>\n",
       "    </tr>\n",
       "    <tr>\n",
       "      <th>1</th>\n",
       "      <td>5</td>\n",
       "      <td>0.902615</td>\n",
       "    </tr>\n",
       "    <tr>\n",
       "      <th>2</th>\n",
       "      <td>10</td>\n",
       "      <td>0.933222</td>\n",
       "    </tr>\n",
       "    <tr>\n",
       "      <th>3</th>\n",
       "      <td>15</td>\n",
       "      <td>0.939900</td>\n",
       "    </tr>\n",
       "    <tr>\n",
       "      <th>4</th>\n",
       "      <td>20</td>\n",
       "      <td>0.944352</td>\n",
       "    </tr>\n",
       "    <tr>\n",
       "      <th>5</th>\n",
       "      <td>NoLim</td>\n",
       "      <td>0.938230</td>\n",
       "    </tr>\n",
       "  </tbody>\n",
       "</table>\n",
       "</div>"
      ],
      "text/plain": [
       "  max_depth      mean\n",
       "0         1  0.668893\n",
       "1         5  0.902615\n",
       "2        10  0.933222\n",
       "3        15  0.939900\n",
       "4        20  0.944352\n",
       "5     NoLim  0.938230"
      ]
     },
     "execution_count": 228,
     "metadata": {},
     "output_type": "execute_result"
    }
   ],
   "source": [
    "t=scores.groupby(['max_depth'],as_index =False)['mean'].mean()\n",
    "t"
   ]
  },
  {
   "cell_type": "code",
   "execution_count": 229,
   "metadata": {
    "collapsed": false
   },
   "outputs": [
    {
     "data": {
      "text/html": [
       "<div>\n",
       "<table border=\"1\" class=\"dataframe\">\n",
       "  <thead>\n",
       "    <tr style=\"text-align: right;\">\n",
       "      <th></th>\n",
       "      <th>max_features</th>\n",
       "      <th>mean</th>\n",
       "    </tr>\n",
       "  </thead>\n",
       "  <tbody>\n",
       "    <tr>\n",
       "      <th>0</th>\n",
       "      <td>10.0</td>\n",
       "      <td>0.887869</td>\n",
       "    </tr>\n",
       "  </tbody>\n",
       "</table>\n",
       "</div>"
      ],
      "text/plain": [
       "   max_features      mean\n",
       "0          10.0  0.887869"
      ]
     },
     "execution_count": 229,
     "metadata": {},
     "output_type": "execute_result"
    }
   ],
   "source": [
    "t=scores.groupby(['max_features'],as_index =False)['mean'].mean()\n",
    "t"
   ]
  },
  {
   "cell_type": "code",
   "execution_count": 230,
   "metadata": {
    "collapsed": false
   },
   "outputs": [
    {
     "data": {
      "text/html": [
       "<div>\n",
       "<table border=\"1\" class=\"dataframe\">\n",
       "  <thead>\n",
       "    <tr style=\"text-align: right;\">\n",
       "      <th></th>\n",
       "      <th>n_estimators</th>\n",
       "      <th>mean</th>\n",
       "    </tr>\n",
       "  </thead>\n",
       "  <tbody>\n",
       "    <tr>\n",
       "      <th>0</th>\n",
       "      <td>100.0</td>\n",
       "      <td>0.887869</td>\n",
       "    </tr>\n",
       "  </tbody>\n",
       "</table>\n",
       "</div>"
      ],
      "text/plain": [
       "   n_estimators      mean\n",
       "0         100.0  0.887869"
      ]
     },
     "execution_count": 230,
     "metadata": {},
     "output_type": "execute_result"
    }
   ],
   "source": [
    "t=scores.groupby(['n_estimators'],as_index =False)['mean'].mean()\n",
    "t"
   ]
  },
  {
   "cell_type": "markdown",
   "metadata": {},
   "source": [
    "# Ответы в п.5 = 2 3 4 7"
   ]
  },
  {
   "cell_type": "markdown",
   "metadata": {},
   "source": [
    "## 1) Нет\n",
    "Случайный лес сильно переобучается с ростом количества деревьев\n"
   ]
  },
  {
   "cell_type": "markdown",
   "metadata": {},
   "source": [
    "## 2) Да\n",
    "При очень маленьком числе деревьев (5, 10, 15), случайный лес работает хуже, чем при большем числе деревьев"
   ]
  },
  {
   "cell_type": "markdown",
   "metadata": {},
   "source": [
    "## 3) Да\n",
    "С ростом количества деревьев в случайном лесе, в какой-то момент деревьев становится достаточно для \n",
    "высокого качества классификации, а затем качество существенно не меняется.\n"
   ]
  },
  {
   "cell_type": "markdown",
   "metadata": {},
   "source": [
    "## 4) Да\n",
    "При большом количестве признаков (для данного датасета - 40, 50) качество классификации становится хуже, \n",
    "чем при малом количестве признаков (5, 10). Это связано с тем, что чем меньше признаков выбирается в каждом узле,\n",
    "тем более различными получаются деревья (ведь деревья сильно неустойчивы к изменениям в обучающей выборке), \n",
    "и тем лучше работает их композиция."
   ]
  },
  {
   "cell_type": "markdown",
   "metadata": {},
   "source": [
    "## 5) Нет\n",
    "При большом количестве признаков (40, 50, 60) качество классификации лучше, ч\n",
    "ем при малом количестве признаков (5, 10). Это связано с тем, что чем больше признаков - \n",
    "тем больше информации об объектах, а значит алгоритм может делать прогнозы более точно."
   ]
  },
  {
   "cell_type": "markdown",
   "metadata": {},
   "source": [
    "## 6) Нет\n",
    "При небольшой максимальной глубине деревьев (5-6) качество работы случайного леса намного лучше, \n",
    "чем без ограничения глубины, т.к. деревья получаются не переобученными. С ростом глубины деревьев качество ухудшается."
   ]
  },
  {
   "cell_type": "markdown",
   "metadata": {},
   "source": [
    "## 7) Да\n",
    "При небольшой максимальной глубине деревьев (5-6) качество работы случайного леса заметно хуже, \n",
    "чем без ограничений, т.к. деревья получаются недообученными. С ростом глубины качество сначала улучшается, \n",
    "а затем не меняется существенно, т.к. из-за усреднения прогнозов и различий деревьев их переобученность \n",
    "в бэггинге не сказывается на итоговом качестве (все деревья преобучены по-разному, и при усреднении\n",
    "они компенсируют переобученность друг-друга)."
   ]
  },
  {
   "cell_type": "code",
   "execution_count": null,
   "metadata": {
    "collapsed": true
   },
   "outputs": [],
   "source": []
  }
 ],
 "metadata": {
  "kernelspec": {
   "display_name": "Python [conda root]",
   "language": "python",
   "name": "conda-root-py"
  },
  "language_info": {
   "codemirror_mode": {
    "name": "ipython",
    "version": 3
   },
   "file_extension": ".py",
   "mimetype": "text/x-python",
   "name": "python",
   "nbconvert_exporter": "python",
   "pygments_lexer": "ipython3",
   "version": "3.5.2"
  }
 },
 "nbformat": 4,
 "nbformat_minor": 1
}
