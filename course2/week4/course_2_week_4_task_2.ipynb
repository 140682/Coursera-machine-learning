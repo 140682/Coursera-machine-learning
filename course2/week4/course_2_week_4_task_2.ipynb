{
 "cells": [
  {
   "cell_type": "code",
   "execution_count": 1,
   "metadata": {
    "collapsed": false
   },
   "outputs": [
    {
     "name": "stderr",
     "output_type": "stream",
     "text": [
      "D:\\Anaconda3\\lib\\site-packages\\sklearn\\cross_validation.py:44: DeprecationWarning: This module was deprecated in version 0.18 in favor of the model_selection module into which all the refactored classes and functions are moved. Also note that the interface of the new CV iterators are different from that of this module. This module will be removed in 0.20.\n",
      "  \"This module will be removed in 0.20.\", DeprecationWarning)\n",
      "D:\\Anaconda3\\lib\\site-packages\\sklearn\\grid_search.py:43: DeprecationWarning: This module was deprecated in version 0.18 in favor of the model_selection module into which all the refactored classes and functions are moved. This module will be removed in 0.20.\n",
      "  DeprecationWarning)\n"
     ]
    }
   ],
   "source": [
    "import numpy as np\n",
    "from sklearn.tree import DecisionTreeRegressor\n",
    "import matplotlib.pyplot as plt\n",
    "from sklearn import datasets\n",
    "from sklearn.metrics import mean_squared_error\n",
    "from sklearn.grid_search import GridSearchCV\n",
    "from sklearn.ensemble import GradientBoostingRegressor"
   ]
  },
  {
   "cell_type": "code",
   "execution_count": 16,
   "metadata": {
    "collapsed": true
   },
   "outputs": [],
   "source": [
    "def write_answer_to_file(answer, filename):\n",
    "    with open(filename, 'w') as f_out:\n",
    "        f_out.write(str(answer))"
   ]
  },
  {
   "cell_type": "code",
   "execution_count": 29,
   "metadata": {
    "collapsed": false
   },
   "outputs": [
    {
     "name": "stdout",
     "output_type": "stream",
     "text": [
      "506 379\n",
      "379 127\n"
     ]
    }
   ],
   "source": [
    "# Грузим датасет, разделяем на 75 и 25%\n",
    "boston = datasets.load_boston()\n",
    "size=boston['target'].shape[0]\n",
    "size_train=int(size*0.75)\n",
    "y=boston['target'][0:size_train]\n",
    "y_test=boston['target'][size_train:]\n",
    "X=boston['data'][0:size_train]\n",
    "X_test=boston['data'][size_train:]\n",
    "print (size,size_train)\n",
    "print (len(y),len(y_test))"
   ]
  },
  {
   "cell_type": "code",
   "execution_count": 3,
   "metadata": {
    "collapsed": false
   },
   "outputs": [],
   "source": [
    "def gbm_predict(X,coefficients_list,base_algorithms_list):\n",
    "    return [sum([coeff * algo.predict([x])[0] for algo, coeff in zip(base_algorithms_list, coefficients_list)]) for x in X]"
   ]
  },
  {
   "cell_type": "code",
   "execution_count": 30,
   "metadata": {
    "collapsed": false
   },
   "outputs": [],
   "source": [
    "def grad_boost(coefficients_list):\n",
    "    N=50\n",
    "    # массив базовых алгоритмов\n",
    "    base_algorithms_list=[]\n",
    "    # массив ошибок\n",
    "    RMSE_list=[]\n",
    "    #b0\n",
    "    clf=DecisionTreeRegressor(max_depth=5,random_state=42)\n",
    "    clf.fit(X, y)\n",
    "    base_algorithms_list.append(clf)\n",
    "    RMSE_list.append(np.sqrt(mean_squared_error(y_test,gbm_predict(X_test,coefficients_list,base_algorithms_list))))\n",
    "    #вычисляем остальные алгоритмы    \n",
    "    for n in range(1,N):\n",
    "        a_pred=gbm_predict(X,coefficients_list,base_algorithms_list)\n",
    "        # вычисляем сдвиг\n",
    "        s=-(a_pred-y)\n",
    "        y_new=y+s\n",
    "        # Получаем новый базовый алгоритм\n",
    "        clf=DecisionTreeRegressor(max_depth=5,random_state=42)\n",
    "        clf.fit(X, y_new)\n",
    "        base_algorithms_list.append(clf)\n",
    "        rmse=np.sqrt(mean_squared_error(y_test,gbm_predict(X_test,coefficients_list,base_algorithms_list)))\n",
    "        RMSE_list.append(rmse)\n",
    "    return RMSE_list"
   ]
  },
  {
   "cell_type": "markdown",
   "metadata": {},
   "source": [
    "# Задание 2"
   ]
  },
  {
   "cell_type": "code",
   "execution_count": 31,
   "metadata": {
    "collapsed": false
   },
   "outputs": [
    {
     "name": "stdout",
     "output_type": "stream",
     "text": [
      "answer 2= 24.7485104309\n"
     ]
    },
    {
     "data": {
      "image/png": "[encoded data removed]",
      "text/plain": [
       "<matplotlib.figure.Figure at 0x1667ea25048>"
      ]
     },
     "metadata": {},
     "output_type": "display_data"
    }
   ],
   "source": [
    "coeff2=[0.9]*50\n",
    "rmse2=grad_boost(coeff2)\n",
    "print (\"answer 2=\",rmse2[-1])\n",
    "# 12.6411912587\n",
    "plt.plot(range(50),rmse2)\n",
    "plt.show()\n",
    "write_answer_to_file(rmse2[-1],\"test2_res2.txt\")"
   ]
  },
  {
   "cell_type": "markdown",
   "metadata": {},
   "source": [
    "# Задание 3"
   ]
  },
  {
   "cell_type": "code",
   "execution_count": 32,
   "metadata": {
    "collapsed": false
   },
   "outputs": [
    {
     "name": "stdout",
     "output_type": "stream",
     "text": [
      "answer 3= 20.5298800416\n"
     ]
    },
    {
     "data": {
      "image/png": "[encoded data removed]",
      "text/plain": [
       "<matplotlib.figure.Figure at 0x1667ea25470>"
      ]
     },
     "metadata": {},
     "output_type": "display_data"
    }
   ],
   "source": [
    "coeff3=[]\n",
    "for i in range(50):\n",
    "    coeff3.append(0.9 / (1.0 + i))\n",
    "rmse3=grad_boost(coeff3)\n",
    "print (\"answer 3=\",rmse3[-1])\n",
    "plt.plot(range(50),rmse3)\n",
    "plt.show()\n",
    "write_answer_to_file(rmse3[-1],\"test2_res3.txt\")"
   ]
  },
  {
   "cell_type": "markdown",
   "metadata": {},
   "source": [
    "## Задание 4"
   ]
  },
  {
   "cell_type": "code",
   "execution_count": 7,
   "metadata": {
    "collapsed": false
   },
   "outputs": [],
   "source": [
    "#number of regression trees (n_estimators) - количество деревьев\n",
    "#depth of each individual tree (max_depth) - глубина\n",
    "n_estimators_par = [1, 10, 50, 100, 200]\n",
    "max_depth_par = [1, 2, 3, 4, 5, 6, 7, 8, 10,15,20,50,100]\n",
    "rmse_scores=[]\n",
    "import itertools\n",
    "for params in itertools.product(n_estimators_par,max_depth_par):\n",
    "    est = GradientBoostingRegressor(n_estimators=params[0],max_depth=params[1])\n",
    "    est.fit(X,y)\n",
    "    rmse=mean_squared_error(y_test,est.predict(X_test))**0.5\n",
    "    rmse_scores.append(rmse)"
   ]
  },
  {
   "cell_type": "code",
   "execution_count": 8,
   "metadata": {
    "collapsed": false
   },
   "outputs": [
    {
     "data": {
      "image/png": "[encoded data removed]",
      "text/plain": [
       "<matplotlib.figure.Figure at 0x1667e97aef0>"
      ]
     },
     "metadata": {},
     "output_type": "display_data"
    },
    {
     "data": {
      "image/png": "[encoded data removed]",
      "text/plain": [
       "<matplotlib.figure.Figure at 0x1667e92fd30>"
      ]
     },
     "metadata": {},
     "output_type": "display_data"
    }
   ],
   "source": [
    "scores=np.array(rmse_scores).reshape(len(n_estimators_par), len(max_depth_par))\n",
    "max_depth_mean=scores.mean(axis=0)\n",
    "n_estimators_mean=scores.mean(axis=1)\n",
    "\n",
    "plt.title(\"n_estimators\")\n",
    "plt.plot(n_estimators_par, n_estimators_mean)\n",
    "plt.xlabel('n_estimators')\n",
    "plt.ylabel('Mean score')\n",
    "plt.show()\n",
    "\n",
    "plt.title(\"max_depth\")\n",
    "plt.plot(max_depth_par, max_depth_mean)\n",
    "plt.xlabel('max_depth')\n",
    "plt.ylabel('Mean score')\n",
    "plt.show()\n",
    "\n"
   ]
  },
  {
   "cell_type": "markdown",
   "metadata": {},
   "source": [
    "# Задание 4"
   ]
  },
  {
   "cell_type": "code",
   "execution_count": 33,
   "metadata": {
    "collapsed": true
   },
   "outputs": [],
   "source": [
    "write_answer_to_file(\"1 4\",\"test2_res4.txt\")"
   ]
  },
  {
   "cell_type": "markdown",
   "metadata": {},
   "source": [
    "## Да\n",
    "1) С увеличением числа деревьев, начиная с некоторого момента, качество работы градиентного бустинга не меняется существенно.\n",
    "\n",
    "## Нет\n",
    "2) С увеличением числа деревьев, начиная с некоторого момента, градиентный бустинг начинает переобучаться.\n",
    "## Да\n",
    "3) С ростом глубины деревьев, начиная с некоторого момента, качество работы градиентного бустинга на тестовой выборке начинает ухудшаться\n",
    "## Да\n",
    "4) С ростом глубины деревьев, начиная с некоторого момента, качество работы градиентного бустинга перестает существенно изменяться"
   ]
  },
  {
   "cell_type": "markdown",
   "metadata": {},
   "source": [
    "## Задание 5"
   ]
  },
  {
   "cell_type": "code",
   "execution_count": 20,
   "metadata": {
    "collapsed": true
   },
   "outputs": [],
   "source": [
    "from sklearn import linear_model"
   ]
  },
  {
   "cell_type": "code",
   "execution_count": 21,
   "metadata": {
    "collapsed": false
   },
   "outputs": [
    {
     "name": "stdout",
     "output_type": "stream",
     "text": [
      "answer5= 8.23209014665\n"
     ]
    }
   ],
   "source": [
    "regr = linear_model.LinearRegression()\n",
    "regr.fit(X, y)\n",
    "regr_rmse=mean_squared_error(y_test,regr.predict(X_test))**0.5\n",
    "print (\"answer5=\",regr_rmse)"
   ]
  },
  {
   "cell_type": "code",
   "execution_count": 23,
   "metadata": {
    "collapsed": false
   },
   "outputs": [],
   "source": [
    "write_answer_to_file(regr_rmse,\"test2_res5.txt\")"
   ]
  },
  {
   "cell_type": "code",
   "execution_count": null,
   "metadata": {
    "collapsed": true
   },
   "outputs": [],
   "source": []
  }
 ],
 "metadata": {
  "kernelspec": {
   "display_name": "Python [conda root]",
   "language": "python",
   "name": "conda-root-py"
  },
  "language_info": {
   "codemirror_mode": {
    "name": "ipython",
    "version": 3
   },
   "file_extension": ".py",
   "mimetype": "text/x-python",
   "name": "python",
   "nbconvert_exporter": "python",
   "pygments_lexer": "ipython3",
   "version": "3.5.2"
  }
 },
 "nbformat": 4,
 "nbformat_minor": 1
}
