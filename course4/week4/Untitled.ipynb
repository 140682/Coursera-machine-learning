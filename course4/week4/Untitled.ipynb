{
 "cells": [
  {
   "cell_type": "code",
   "execution_count": null,
   "metadata": {
    "collapsed": true
   },
   "outputs": [],
   "source": []
  },
  {
   "cell_type": "code",
   "execution_count": 1,
   "metadata": {
    "collapsed": true
   },
   "outputs": [],
   "source": [
    "import pandas as pd\n",
    "import numpy as np"
   ]
  },
  {
   "cell_type": "code",
   "execution_count": 2,
   "metadata": {
    "collapsed": true
   },
   "outputs": [],
   "source": [
    "data=pd.read_csv('ab_browser_test.csv')"
   ]
  },
  {
   "cell_type": "code",
   "execution_count": 5,
   "metadata": {
    "collapsed": false
   },
   "outputs": [],
   "source": [
    "exp_clicks=data[data.slot=='exp']['n_clicks']"
   ]
  },
  {
   "cell_type": "code",
   "execution_count": 6,
   "metadata": {
    "collapsed": false
   },
   "outputs": [
    {
     "data": {
      "text/plain": [
       "0          23\n",
       "1           3\n",
       "2          29\n",
       "4          54\n",
       "6           6\n",
       "8           2\n",
       "10          7\n",
       "11          4\n",
       "12          2\n",
       "14         21\n",
       "16         10\n",
       "17         25\n",
       "18         72\n",
       "20          4\n",
       "21          7\n",
       "23         22\n",
       "26          3\n",
       "27          1\n",
       "28         39\n",
       "31         32\n",
       "35          5\n",
       "36          4\n",
       "38          5\n",
       "40         23\n",
       "41          9\n",
       "42         63\n",
       "43         35\n",
       "44        134\n",
       "45          9\n",
       "49          8\n",
       "         ... \n",
       "566061      1\n",
       "566063      1\n",
       "566064      0\n",
       "566068      1\n",
       "566069      0\n",
       "566070      0\n",
       "566073      0\n",
       "566074      0\n",
       "566077      2\n",
       "566079      3\n",
       "566081      0\n",
       "566083      1\n",
       "566084      1\n",
       "566086      2\n",
       "566091      6\n",
       "566093      1\n",
       "566097      7\n",
       "566099      0\n",
       "566100      4\n",
       "566101      0\n",
       "566103      1\n",
       "566104      2\n",
       "566108      2\n",
       "566116      0\n",
       "566123      0\n",
       "566125      0\n",
       "566126      0\n",
       "566127      4\n",
       "566130      4\n",
       "566133      3\n",
       "Name: n_clicks, dtype: int64"
      ]
     },
     "execution_count": 6,
     "metadata": {},
     "output_type": "execute_result"
    }
   ],
   "source": [
    "exp_clicks"
   ]
  },
  {
   "cell_type": "code",
   "execution_count": null,
   "metadata": {
    "collapsed": true
   },
   "outputs": [],
   "source": []
  }
 ],
 "metadata": {
  "kernelspec": {
   "display_name": "Python 3",
   "language": "python",
   "name": "python3"
  },
  "language_info": {
   "codemirror_mode": {
    "name": "ipython",
    "version": 3
   },
   "file_extension": ".py",
   "mimetype": "text/x-python",
   "name": "python",
   "nbconvert_exporter": "python",
   "pygments_lexer": "ipython3",
   "version": "3.6.0"
  }
 },
 "nbformat": 4,
 "nbformat_minor": 2
}
