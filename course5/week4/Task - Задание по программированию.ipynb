{
 "cells": [
  {
   "cell_type": "code",
   "execution_count": 1,
   "metadata": {
    "collapsed": true
   },
   "outputs": [],
   "source": [
    "import numpy as np\n",
    "import pandas as pd\n",
    "import os"
   ]
  },
  {
   "cell_type": "markdown",
   "metadata": {},
   "source": [
    "Загружаем данные по сессиям"
   ]
  },
  {
   "cell_type": "code",
   "execution_count": 443,
   "metadata": {
    "collapsed": false
   },
   "outputs": [
    {
     "data": {
      "text/html": [
       "<div>\n",
       "<table border=\"1\" class=\"dataframe\">\n",
       "  <thead>\n",
       "    <tr style=\"text-align: right;\">\n",
       "      <th></th>\n",
       "      <th>v</th>\n",
       "      <th>b</th>\n",
       "    </tr>\n",
       "  </thead>\n",
       "  <tbody>\n",
       "    <tr>\n",
       "      <th>0</th>\n",
       "      <td>0,1,2,3,4,5</td>\n",
       "      <td>NaN</td>\n",
       "    </tr>\n",
       "    <tr>\n",
       "      <th>1</th>\n",
       "      <td>9,10,11,9,11,12,9,11</td>\n",
       "      <td>NaN</td>\n",
       "    </tr>\n",
       "    <tr>\n",
       "      <th>2</th>\n",
       "      <td>16,17,18,19,20,21</td>\n",
       "      <td>NaN</td>\n",
       "    </tr>\n",
       "    <tr>\n",
       "      <th>3</th>\n",
       "      <td>24,25,26,27,24</td>\n",
       "      <td>NaN</td>\n",
       "    </tr>\n",
       "    <tr>\n",
       "      <th>4</th>\n",
       "      <td>34,35,36,34,37,35,36,37,38,39,38,39</td>\n",
       "      <td>NaN</td>\n",
       "    </tr>\n",
       "    <tr>\n",
       "      <th>5</th>\n",
       "      <td>42</td>\n",
       "      <td>NaN</td>\n",
       "    </tr>\n",
       "    <tr>\n",
       "      <th>6</th>\n",
       "      <td>47,48,49</td>\n",
       "      <td>NaN</td>\n",
       "    </tr>\n",
       "    <tr>\n",
       "      <th>7</th>\n",
       "      <td>59,60,61,62,60,63,64,65,66,61,67,68,67</td>\n",
       "      <td>67,60,63</td>\n",
       "    </tr>\n",
       "    <tr>\n",
       "      <th>8</th>\n",
       "      <td>71,72,73,74</td>\n",
       "      <td>NaN</td>\n",
       "    </tr>\n",
       "    <tr>\n",
       "      <th>9</th>\n",
       "      <td>76,77,78</td>\n",
       "      <td>NaN</td>\n",
       "    </tr>\n",
       "  </tbody>\n",
       "</table>\n",
       "</div>"
      ],
      "text/plain": [
       "                                        v         b\n",
       "0                             0,1,2,3,4,5       NaN\n",
       "1                    9,10,11,9,11,12,9,11       NaN\n",
       "2                       16,17,18,19,20,21       NaN\n",
       "3                          24,25,26,27,24       NaN\n",
       "4     34,35,36,34,37,35,36,37,38,39,38,39       NaN\n",
       "5                                      42       NaN\n",
       "6                                47,48,49       NaN\n",
       "7  59,60,61,62,60,63,64,65,66,61,67,68,67  67,60,63\n",
       "8                             71,72,73,74       NaN\n",
       "9                                76,77,78       NaN"
      ]
     },
     "execution_count": 443,
     "metadata": {},
     "output_type": "execute_result"
    }
   ],
   "source": [
    "testdf=pd.read_csv('coursera_sessions_test.txt',sep=';',header=None)\n",
    "traindf=pd.read_csv('coursera_sessions_train.txt',sep=';',header=None)\n",
    "testdf.columns=['v','b']\n",
    "traindf.columns=['v','b']\n",
    "traindf.head(10)"
   ]
  },
  {
   "cell_type": "markdown",
   "metadata": {},
   "source": [
    "Расчитаем частоты появляения id в обучающей выборке"
   ]
  },
  {
   "cell_type": "code",
   "execution_count": 444,
   "metadata": {
    "collapsed": false
   },
   "outputs": [],
   "source": [
    "# Функция считает количество появлений каждого ИД в наборе.\n",
    "# Под набором (sessions) понимаем списке просмотренных или купленных товарах во всей выборке \n",
    "def get_num(sessions):\n",
    "    # Формируем список всех встречающихся ИД в наборе\n",
    "    l=list()\n",
    "    for session in sessions:\n",
    "        l+=session.split(',')\n",
    "    l=list(map(int,l))\n",
    "    # Считаем сколько раз встретился каждый ИД в наборе\n",
    "    freq = np.bincount(l)\n",
    "    ii = np.nonzero(freq)[0]\n",
    "    # Возвращаем список - (ИД - количество раз сколько он встретился в списке)\n",
    "    return list(zip(ii,freq[ii]))"
   ]
  },
  {
   "cell_type": "code",
   "execution_count": 445,
   "metadata": {
    "collapsed": false
   },
   "outputs": [],
   "source": [
    "# Формируем для каждого ИД количество его наблюдений в просмотре и покупке на обучении\n",
    "# Считаем количество в просмотрах\n",
    "rate_df=pd.DataFrame(get_num(list(traindf.v)),columns=['id','view_num'])\n",
    "rate_df=rate_df.set_index('id')\n",
    "# Считаем количество в покупках\n",
    "rate_df1=pd.DataFrame(get_num(list(traindf.b.dropna())),columns=['id','buy_num'])\n",
    "rate_df1=rate_df1.set_index('id')\n",
    "# Объединяем, считаем, что если товара не было в покупках, то он не покупался\n",
    "rate_df=rate_df.join(rate_df1)\n",
    "rate_df=rate_df.fillna(0)"
   ]
  },
  {
   "cell_type": "code",
   "execution_count": 452,
   "metadata": {
    "collapsed": false
   },
   "outputs": [],
   "source": [
    "# Добавляем  ИД, которые есть в тесте, но нет в обучении\n",
    "# Получаем список ИД в тесте\n",
    "test_ids=list()\n",
    "for s in list(testdf.v):\n",
    "    test_ids+=s.split(',')\n",
    "test_ids=list(map(int,test_ids))\n",
    "# Определяем те, которых нет в обучении\n",
    "dif=set(test_ids).difference(list(rate_df.index))\n",
    "dif=list(dif)\n",
    "dfdif=pd.DataFrame(index=dif,columns=['view_num','buy_num'])\n",
    "dfdif.view_num=0\n",
    "dfdif.buy_num=0\n",
    "rate_df=rate_df.append(dfdif)"
   ]
  },
  {
   "cell_type": "code",
   "execution_count": 455,
   "metadata": {
    "collapsed": false,
    "scrolled": true
   },
   "outputs": [],
   "source": [
    "# Считаем для каждого ИД его ранк относительно просмотренных и купленных товаров\n",
    "rate_df['view_rank']=rate_df.view_num.rank(ascending=False)\n",
    "rate_df['buy_rank']=rate_df.buy_num.rank(ascending=False)"
   ]
  },
  {
   "cell_type": "code",
   "execution_count": 456,
   "metadata": {
    "collapsed": false
   },
   "outputs": [
    {
     "data": {
      "text/html": [
       "<div>\n",
       "<table border=\"1\" class=\"dataframe\">\n",
       "  <thead>\n",
       "    <tr style=\"text-align: right;\">\n",
       "      <th></th>\n",
       "      <th>view_num</th>\n",
       "      <th>buy_num</th>\n",
       "      <th>view_rank</th>\n",
       "      <th>buy_rank</th>\n",
       "    </tr>\n",
       "  </thead>\n",
       "  <tbody>\n",
       "    <tr>\n",
       "      <th>0</th>\n",
       "      <td>6</td>\n",
       "      <td>0.0</td>\n",
       "      <td>14211.5</td>\n",
       "      <td>53509.5</td>\n",
       "    </tr>\n",
       "    <tr>\n",
       "      <th>1</th>\n",
       "      <td>6</td>\n",
       "      <td>0.0</td>\n",
       "      <td>14211.5</td>\n",
       "      <td>53509.5</td>\n",
       "    </tr>\n",
       "    <tr>\n",
       "      <th>2</th>\n",
       "      <td>9</td>\n",
       "      <td>0.0</td>\n",
       "      <td>8828.0</td>\n",
       "      <td>53509.5</td>\n",
       "    </tr>\n",
       "    <tr>\n",
       "      <th>3</th>\n",
       "      <td>7</td>\n",
       "      <td>0.0</td>\n",
       "      <td>11933.5</td>\n",
       "      <td>53509.5</td>\n",
       "    </tr>\n",
       "    <tr>\n",
       "      <th>4</th>\n",
       "      <td>11</td>\n",
       "      <td>0.0</td>\n",
       "      <td>6734.0</td>\n",
       "      <td>53509.5</td>\n",
       "    </tr>\n",
       "  </tbody>\n",
       "</table>\n",
       "</div>"
      ],
      "text/plain": [
       "   view_num  buy_num  view_rank  buy_rank\n",
       "0         6      0.0    14211.5   53509.5\n",
       "1         6      0.0    14211.5   53509.5\n",
       "2         9      0.0     8828.0   53509.5\n",
       "3         7      0.0    11933.5   53509.5\n",
       "4        11      0.0     6734.0   53509.5"
      ]
     },
     "execution_count": 456,
     "metadata": {},
     "output_type": "execute_result"
    }
   ],
   "source": [
    "rate_df.head()"
   ]
  },
  {
   "cell_type": "markdown",
   "metadata": {},
   "source": [
    "Реализуйте два алгоритма рекомендаций:\n",
    "* сортировка просмотренных id по популярности (частота появления в просмотренных),\n",
    "* сортировка просмотренных id по покупаемости (частота появления в покупках).\n"
   ]
  },
  {
   "cell_type": "code",
   "execution_count": 462,
   "metadata": {
    "collapsed": false
   },
   "outputs": [],
   "source": [
    "# Фуникция получает на вход ИД view_ids и возвращает k из них, в соотвествии с алгоритмом рекомендации alg\n",
    "# view_ids - просмотренные товары\n",
    "# k - количество рекомендаций для возврата\n",
    "# alg - алгорим построения рекомендаций (view_rank - по популярности, buy_rank - по покупаемости)\n",
    "def get_recom_id(view_ids,k,alg):\n",
    "    # список уникальных ИД\n",
    "    view=set(view_ids) \n",
    "    # минимум из К и количеством товаров\n",
    "    first=min(k,len(view_ids))\n",
    "    # возвращаем топ лучших ИД \n",
    "    return list(rate_df.loc[view,alg].sort_values(kind='mergesort')[0:first].index)"
   ]
  },
  {
   "cell_type": "code",
   "execution_count": 457,
   "metadata": {
    "collapsed": false
   },
   "outputs": [
    {
     "name": "stdout",
     "output_type": "stream",
     "text": [
      "{5494}\n"
     ]
    },
    {
     "data": {
      "text/plain": [
       "(0.2, 1.0)"
      ]
     },
     "execution_count": 457,
     "metadata": {},
     "output_type": "execute_result"
    }
   ],
   "source": [
    "testdf[testdf.v=='5494']\n",
    "view=testdf.loc[668]['v']\n",
    "buy=testdf.loc[668]['b']\n",
    "metric(view,buy,5,'view_rank')\n"
   ]
  },
  {
   "cell_type": "markdown",
   "metadata": {
    "collapsed": true
   },
   "source": [
    "Раcсчет метрик"
   ]
  },
  {
   "cell_type": "code",
   "execution_count": 461,
   "metadata": {
    "collapsed": false
   },
   "outputs": [],
   "source": [
    "# Функция расчитывает для сессии [view,buy] метрики precision(k), recall(k) исходя из алгоритма рекомендаций alg\n",
    "def metric(view,buy,k,alg):\n",
    "    view_ids=view.split(',')\n",
    "    view_ids=list(map(int,view_ids))\n",
    "    buy_ids=buy.split(',')\n",
    "    buy_ids=list(map(int,buy_ids))\n",
    "    # получаем список рекомендаций для сессии\n",
    "    recom=get_recom_id(view_ids,k,alg)\n",
    "    # Считаем количество покупок из рекомендованных\n",
    "    purchases=0\n",
    "    for id_ in buy_ids:\n",
    "        if id_ in recom:\n",
    "            purchases+=1\n",
    "    #print (\"buy=%s, recom=%s, purchases=%s\"%(buy_ids,recom,purchases))\n",
    "    # Precision = Количество покупок из рекомендованных / k\n",
    "    precision=purchases/k\n",
    "    # Recall = Количество покупок из рекомендованных / Количество покупок\n",
    "    recall=purchases/len(buy_ids)\n",
    "    return precision,recall"
   ]
  },
  {
   "cell_type": "code",
   "execution_count": 459,
   "metadata": {
    "collapsed": false
   },
   "outputs": [],
   "source": [
    "# Фуникция считает метрики precision(k), recall(k) для сессий в DF\n",
    "def calc_metrics(df):\n",
    "    for session in df[df.b.notnull()].iterrows():\n",
    "        id_=session[0]\n",
    "        view=session[1]['v']\n",
    "        buy=session[1]['b']\n",
    "        for k in [1,5]:\n",
    "            for alg in ['view_rank','buy_rank']:\n",
    "                p,r=metric(view,buy,k,alg)\n",
    "                df.loc[id_,'p'+str(k)+alg]=p\n",
    "                df.loc[id_,'r'+str(k)+alg]=r"
   ]
  },
  {
   "cell_type": "code",
   "execution_count": 463,
   "metadata": {
    "collapsed": true
   },
   "outputs": [],
   "source": [
    "calc_metrics(traindf)"
   ]
  },
  {
   "cell_type": "code",
   "execution_count": 466,
   "metadata": {
    "collapsed": false
   },
   "outputs": [],
   "source": [
    "calc_metrics(testdf)"
   ]
  },
  {
   "cell_type": "markdown",
   "metadata": {},
   "source": [
    "Для данных алгоритмов выпишите через пробел AverageRecall@1, AveragePrecision@1, AverageRecall@5, AveragePrecision@5 на обучающей и тестовых выборках, округляя до 2 знака после запятой. Это будут ваши ответы в этом задании."
   ]
  },
  {
   "cell_type": "code",
   "execution_count": 365,
   "metadata": {
    "collapsed": false
   },
   "outputs": [],
   "source": [
    "def get_avg_metrics(df):\n",
    "    res=pd.DataFrame(columns=['view_rank','buy_rank'])\n",
    "    for metric in ['p','r']:\n",
    "        for k in [1,5]:\n",
    "            for alg in ['view_rank','buy_rank']:\n",
    "                res.loc[metric+str(k),alg]=round(df[metric+str(k)+alg].mean(skipna=True),2)\n",
    "    return res"
   ]
  },
  {
   "cell_type": "code",
   "execution_count": 465,
   "metadata": {
    "collapsed": false
   },
   "outputs": [
    {
     "data": {
      "text/html": [
       "<div>\n",
       "<table border=\"1\" class=\"dataframe\">\n",
       "  <thead>\n",
       "    <tr style=\"text-align: right;\">\n",
       "      <th></th>\n",
       "      <th>view_rank</th>\n",
       "      <th>buy_rank</th>\n",
       "    </tr>\n",
       "  </thead>\n",
       "  <tbody>\n",
       "    <tr>\n",
       "      <th>p1</th>\n",
       "      <td>0.51</td>\n",
       "      <td>0.79</td>\n",
       "    </tr>\n",
       "    <tr>\n",
       "      <th>p5</th>\n",
       "      <td>0.21</td>\n",
       "      <td>0.25</td>\n",
       "    </tr>\n",
       "    <tr>\n",
       "      <th>r1</th>\n",
       "      <td>0.44</td>\n",
       "      <td>0.68</td>\n",
       "    </tr>\n",
       "    <tr>\n",
       "      <th>r5</th>\n",
       "      <td>0.82</td>\n",
       "      <td>0.93</td>\n",
       "    </tr>\n",
       "  </tbody>\n",
       "</table>\n",
       "</div>"
      ],
      "text/plain": [
       "   view_rank buy_rank\n",
       "p1      0.51     0.79\n",
       "p5      0.21     0.25\n",
       "r1      0.44     0.68\n",
       "r5      0.82     0.93"
      ]
     },
     "execution_count": 465,
     "metadata": {},
     "output_type": "execute_result"
    }
   ],
   "source": [
    "get_avg_metrics(traindf)"
   ]
  },
  {
   "cell_type": "code",
   "execution_count": 467,
   "metadata": {
    "collapsed": false
   },
   "outputs": [
    {
     "data": {
      "text/html": [
       "<div>\n",
       "<table border=\"1\" class=\"dataframe\">\n",
       "  <thead>\n",
       "    <tr style=\"text-align: right;\">\n",
       "      <th></th>\n",
       "      <th>view_rank</th>\n",
       "      <th>buy_rank</th>\n",
       "    </tr>\n",
       "  </thead>\n",
       "  <tbody>\n",
       "    <tr>\n",
       "      <th>p1</th>\n",
       "      <td>0.48</td>\n",
       "      <td>0.48</td>\n",
       "    </tr>\n",
       "    <tr>\n",
       "      <th>p5</th>\n",
       "      <td>0.2</td>\n",
       "      <td>0.2</td>\n",
       "    </tr>\n",
       "    <tr>\n",
       "      <th>r1</th>\n",
       "      <td>0.41</td>\n",
       "      <td>0.41</td>\n",
       "    </tr>\n",
       "    <tr>\n",
       "      <th>r5</th>\n",
       "      <td>0.8</td>\n",
       "      <td>0.79</td>\n",
       "    </tr>\n",
       "  </tbody>\n",
       "</table>\n",
       "</div>"
      ],
      "text/plain": [
       "   view_rank buy_rank\n",
       "p1      0.48     0.48\n",
       "p5       0.2      0.2\n",
       "r1      0.41     0.41\n",
       "r5       0.8     0.79"
      ]
     },
     "execution_count": 467,
     "metadata": {},
     "output_type": "execute_result"
    }
   ],
   "source": [
    "get_avg_metrics(testdf)"
   ]
  },
  {
   "cell_type": "markdown",
   "metadata": {},
   "source": [
    "Посмотрите, как они соотносятся друг с другом. Где качество получилось выше? Значимо ли это различие? Обратите внимание на различие качества на обучающей и тестовой выборке в случае рекомендаций по частотам покупки."
   ]
  },
  {
   "cell_type": "markdown",
   "metadata": {},
   "source": [
    "* На обучении качество лучше для обоих алгоритмов  \n",
    "* На тесте качество не зависит от алгоритма\n",
    "* На тесте качество для рекомендации по популярности незначительно отличается от обучения\n",
    "* На тесте качество для рекомендации по покупук сильно хуже обучения"
   ]
  }
 ],
 "metadata": {
  "kernelspec": {
   "display_name": "Python [conda root]",
   "language": "python",
   "name": "conda-root-py"
  },
  "language_info": {
   "codemirror_mode": {
    "name": "ipython",
    "version": 3
   },
   "file_extension": ".py",
   "mimetype": "text/x-python",
   "name": "python",
   "nbconvert_exporter": "python",
   "pygments_lexer": "ipython3",
   "version": "3.5.2"
  }
 },
 "nbformat": 4,
 "nbformat_minor": 2
}
