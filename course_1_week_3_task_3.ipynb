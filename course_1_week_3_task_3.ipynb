{
 "cells": [
  {
   "cell_type": "code",
   "execution_count": 1,
   "metadata": {
    "collapsed": true
   },
   "outputs": [],
   "source": [
    "import numpy as np\n",
    "import math\n",
    "import pylab\n",
    "from matplotlib import mlab"
   ]
  },
  {
   "cell_type": "code",
   "execution_count": 5,
   "metadata": {
    "collapsed": false
   },
   "outputs": [
    {
     "data": {
      "image/png": "[encoded data removed]",
      "text/plain": [
       "<matplotlib.figure.Figure at 0x1bcd656d9e8>"
      ]
     },
     "metadata": {},
     "output_type": "display_data"
    }
   ],
   "source": [
    "# Описание исходной фуникции f(x) = sin(x / 5) * exp(x / 10) + 5 * exp(-x / 2)\n",
    "def func_f(x):\n",
    "    return math.sin(x / 5) * math.exp(x / 10) + 5 * math.exp(-x / 2)\n",
    "\n",
    "def func(x):\n",
    "    return int(func_f(x))\n",
    "\n",
    "# Создадим область определения и отрисуем фуникцию\n",
    "xmin = 1\n",
    "xmax = 30\n",
    "dx = 0.01\n",
    "ref_xlist = mlab.frange (xmin, xmax, dx)\n",
    "ref_ylist = [func (x) for x in ref_xlist]\n",
    "pylab.plot (ref_xlist, ref_ylist)\n",
    "pylab.show()"
   ]
  },
  {
   "cell_type": "code",
   "execution_count": 6,
   "metadata": {
    "collapsed": true
   },
   "outputs": [],
   "source": [
    "from scipy.optimize import minimize "
   ]
  },
  {
   "cell_type": "code",
   "execution_count": 11,
   "metadata": {
    "collapsed": false
   },
   "outputs": [
    {
     "name": "stdout",
     "output_type": "stream",
     "text": [
      "Answer1= -5\n"
     ]
    }
   ],
   "source": [
    "x0=30\n",
    "result=minimize(func,x0,method='BFGS')\n",
    "print (\"Answer1=\",round(result.fun,2))"
   ]
  },
  {
   "cell_type": "code",
   "execution_count": 9,
   "metadata": {
    "collapsed": false
   },
   "outputs": [
    {
     "name": "stdout",
     "output_type": "stream",
     "text": [
      "[  5.12589894e-05] 4.0 True 33 1\n",
      "[ 1.] 3 True 3 0\n",
      "[ 2.] 2 True 3 0\n",
      "[ 3.] 1 True 3 0\n",
      "[ 4.] 1 True 3 0\n",
      "[ 5.] 1 True 3 0\n",
      "[ 6.] 1 True 3 0\n",
      "[ 7.] 2 True 3 0\n",
      "[ 8.] 2 True 3 0\n",
      "[ 9.] 2 True 3 0\n",
      "[ 10.] 2 True 3 0\n",
      "[ 11.] 2 True 3 0\n",
      "[ 12.] 2 True 3 0\n",
      "[ 13.] 1 True 3 0\n",
      "[ 14.] 1 True 3 0\n",
      "[ 15.] 0 True 3 0\n",
      "[ 16.] 0 True 3 0\n",
      "[ 17.] -1 True 3 0\n",
      "[ 18.] -2 True 3 0\n",
      "[ 19.] -4 True 3 0\n",
      "[ 20.] -5 True 3 0\n",
      "[ 21.] -7 True 3 0\n",
      "[ 22.] -8 True 3 0\n",
      "[ 23.] -9 True 3 0\n",
      "[ 24.] -10 True 3 0\n",
      "[ 25.] -11 True 3 0\n",
      "[ 26.] -11 True 3 0\n",
      "[ 27.] -11 True 3 0\n",
      "[ 28.] -10 True 3 0\n",
      "[ 29.] -8 True 3 0\n"
     ]
    }
   ],
   "source": [
    "from scipy.optimize import minimize\n",
    "min1_x0=range(30)\n",
    "min1_xlist=list()\n",
    "min1_ylist=list()\n",
    "for x0 in min1_x0:\n",
    "    m=minimize(func, x0)\n",
    "    print (m.x,m.fun,m.success,m.nfev,m.nit)\n",
    "    if ((m.x<=30)&(m.success==True)):\n",
    "        min1_xlist.append(x0)\n",
    "        min1_ylist.append(m.fun)"
   ]
  },
  {
   "cell_type": "code",
   "execution_count": 10,
   "metadata": {
    "collapsed": false
   },
   "outputs": [
    {
     "data": {
      "image/png": "[encoded data removed]",
      "text/plain": [
       "<matplotlib.figure.Figure at 0x1bcd5c3ce10>"
      ]
     },
     "metadata": {},
     "output_type": "display_data"
    }
   ],
   "source": [
    "pylab.plot (ref_xlist, ref_ylist,min1_xlist,min1_ylist)\n",
    "pylab.show()"
   ]
  },
  {
   "cell_type": "code",
   "execution_count": 12,
   "metadata": {
    "collapsed": false
   },
   "outputs": [
    {
     "name": "stdout",
     "output_type": "stream",
     "text": [
      "[ 26.59188031] -11.0 107 6\n",
      "Answer2= -11.0\n"
     ]
    }
   ],
   "source": [
    "from scipy.optimize import differential_evolution as de \n",
    "bounds = [(1,30)]\n",
    "result = de(func, bounds)\n",
    "print (result.x, result.fun,result.nfev,result.nit)\n",
    "print (\"Answer2=\",round(result.fun,2))"
   ]
  }
 ],
 "metadata": {
  "anaconda-cloud": {},
  "kernelspec": {
   "display_name": "Python [conda root]",
   "language": "python",
   "name": "conda-root-py"
  },
  "language_info": {
   "codemirror_mode": {
    "name": "ipython",
    "version": 3
   },
   "file_extension": ".py",
   "mimetype": "text/x-python",
   "name": "python",
   "nbconvert_exporter": "python",
   "pygments_lexer": "ipython3",
   "version": "3.5.2"
  }
 },
 "nbformat": 4,
 "nbformat_minor": 1
}
