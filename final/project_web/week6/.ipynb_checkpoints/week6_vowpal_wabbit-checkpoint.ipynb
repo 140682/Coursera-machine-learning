{
 "cells": [
  {
   "cell_type": "markdown",
   "metadata": {},
   "source": [
    "<center>\n",
    "<img src=\"https://habrastorage.org/web/677/8e1/337/6778e1337c3d4b159d7e99df94227cb2.jpg\"/>\n",
    "## Специализация \"Машинное обучение и анализ данных\"\n",
    "</center>\n",
    "<center>Автор материала: программист-исследователь Mail.ru Group, старший преподаватель Факультета Компьютерных Наук ВШЭ Юрий Кашницкий"
   ]
  },
  {
   "cell_type": "markdown",
   "metadata": {},
   "source": [
    "# <center> Capstone проект №1. Идентификация пользователей по посещенным веб-страницам\n",
    "<img src='http://i.istockimg.com/file_thumbview_approve/21546327/5/stock-illustration-21546327-identification-de-l-utilisateur.jpg'>\n",
    "\n",
    "# <center>Неделя 6.  Vowpal Wabbit\n",
    "\n",
    "На этой неделе мы познакомимся с популярной библиотекой Vowpal Wabbit и попробуем ее на данных соревнования. Знакомиться будем на [данных](http://scikit-learn.org/stable/datasets/twenty_newsgroups.html) Scikit-learn по новостям, сначала в режиме бинарной классификации, затем – в многоклассовом режиме. Затем будем классифицировать рецензии к фильмам с сайта IMDB. Наконец, применим Vowpal Wabbit к данным нашего соревнования. Материала немало, но Vowpal Wabbit того стоит!\n",
    "\n",
    "**План 6 недели:**\n",
    "- Часть 1. Тьюториал по Vowpal Wabbit. Новости. Бинарная классификация\n",
    "- Часть 2. Тьюториал по Vowpal Wabbit. Новости. Многоклассовая классификация\n",
    "- Часть 3. Тьюториал по Vowpal Wabbit. Рецензии к фильмам IMDB\n",
    "- Часть 4. Применение Vowpal Wabbit к данным по посещению сайтов\n",
    "\n",
    "\n",
    "**В этой части проекта Вам могут быть полезны видеозаписи следующих лекций курса \"Обучение на размеченных данных\":**\n",
    "   - [Стохатический градиентный спуск](https://www.coursera.org/learn/supervised-learning/lecture/xRY50/stokhastichieskii-ghradiientnyi-spusk)\n",
    "   - [Линейные модели. Sklearn.linear_model. Классификация](https://www.coursera.org/learn/supervised-learning/lecture/EBg9t/linieinyie-modieli-sklearn-linear-model-klassifikatsiia)\n",
    "   \n",
    "Также будет полезна [презентация](https://github.com/esokolov/ml-course-msu/blob/master/ML15/lecture-notes/Sem08_vw.pdf) лектора специализации Евгения Соколова. И, конечно же, [документация](https://github.com/JohnLangford/vowpal_wabbit/wiki) Vowpal Wabbit. Данный материал стал основой [статьи](https://habrahabr.ru/company/ods/blog/326418/) на Хабре из серии открытого курса по машинному обучению."
   ]
  },
  {
   "cell_type": "markdown",
   "metadata": {},
   "source": [
    "## Часть 1. Тьюториал по Vowpal Wabbit. Новости. Бинарная классификация"
   ]
  },
  {
   "cell_type": "markdown",
   "metadata": {},
   "source": [
    "Vowpal Wabbit (VW) является одной из наиболее широко используемых библиотек в индустрии. Её отличает высокая скорость работы и поддержка большого количества различных режимов обучения. Особый интерес для больших и высокоразмерных данных представляет онлайн-обучение – самая сильная сторона библиотеки. \n",
    "\n",
    "\n",
    "Основным интерфейсом для работы с VW является shell."
   ]
  },
  {
   "cell_type": "code",
   "execution_count": 5,
   "metadata": {
    "collapsed": true
   },
   "outputs": [],
   "source": [
    "import os\n",
    "import re\n",
    "import numpy as np\n",
    "import pandas as pd\n",
    "from tqdm import tqdm\n",
    "from scipy.sparse import csr_matrix\n",
    "import matplotlib.pyplot as plt\n",
    "%matplotlib inline\n",
    "import sklearn.datasets\n",
    "from sklearn.metrics import accuracy_score, roc_auc_score, confusion_matrix\n",
    "from sklearn.model_selection import train_test_split\n",
    "from sklearn.preprocessing import LabelEncoder\n",
    "from tqdm import tqdm \n",
    "import pickle"
   ]
  },
  {
   "cell_type": "code",
   "execution_count": 27,
   "metadata": {
    "collapsed": true
   },
   "outputs": [],
   "source": [
    "#!doskey vw=\"C:\\\\Program Files\\\\VowpalWabbit\\\\vw.exe\""
   ]
  },
  {
   "cell_type": "markdown",
   "metadata": {},
   "source": [
    "Для того чтобы изучить возможные режимы работы vw воспользуемся командой ! для запуска:"
   ]
  },
  {
   "cell_type": "code",
   "execution_count": 2,
   "metadata": {
    "scrolled": false
   },
   "outputs": [
    {
     "name": "stdout",
     "output_type": "stream",
     "text": [
      "\n",
      "\n",
      "VW options:\n",
      "  --random_seed arg                     seed random number generator\n",
      "  --ring_size arg                       size of example ring\n",
      "\n",
      "Update options:\n",
      "  -l [ --learning_rate ] arg            Set learning rate\n",
      "  --power_t arg                         t power value\n",
      "  --decay_learning_rate arg             Set Decay factor for learning_rate \n",
      "                                        between passes\n",
      "  --initial_t arg                       initial t value\n",
      "  --feature_mask arg                    Use existing regressor to determine \n",
      "                                        which parameters may be updated.  If no\n",
      "                                        initial_regressor given, also used for \n",
      "                                        initial weights.\n",
      "\n",
      "Weight options:\n",
      "  -i [ --initial_regressor ] arg        Initial regressor(s)\n",
      "  --initial_weight arg                  Set all weights to an initial value of \n",
      "                                        arg.\n",
      "  --random_weights arg                  make initial weights random\n",
      "  --sparse_weights                      Use a sparse datastructure for weights\n",
      "  --input_feature_regularizer arg       Per feature regularization input file\n",
      "\n",
      "Parallelization options:\n",
      "  --span_server arg                     Location of server for setting up \n",
      "                                        spanning tree\n",
      "  --threads                             Enable multi-threading\n",
      "  --unique_id arg (=0)                  unique id used for cluster parallel \n",
      "                                        jobs\n",
      "  --total arg (=1)                      total number of nodes used in cluster \n",
      "                                        parallel job\n",
      "  --node arg (=0)                       node number in cluster parallel job\n",
      "\n",
      "Diagnostic options:\n",
      "  --version                             Version information\n",
      "  -a [ --audit ]                        print weights of features\n",
      "  -P [ --progress ] arg                 Progress update frequency. int: \n",
      "                                        additive, float: multiplicative\n",
      "  --quiet                               Don't output disgnostics and progress \n",
      "                                        updates\n",
      "  -h [ --help ]                         Look here: http://hunch.net/~vw/ and \n",
      "                                        click on Tutorial.\n",
      "\n",
      "Feature options:\n",
      "  --hash arg                            how to hash the features. Available \n",
      "                                        options: strings, all\n",
      "  --ignore arg                          ignore namespaces beginning with \n",
      "                                        character <arg>\n",
      "  --keep arg                            keep namespaces beginning with \n",
      "                                        character <arg>\n",
      "  --redefine arg                        redefine namespaces beginning with \n",
      "                                        characters of string S as namespace N. \n",
      "                                        <arg> shall be in form 'N:=S' where := \n",
      "                                        is operator. Empty N or S are treated \n",
      "                                        as default namespace. Use ':' as a \n",
      "                                        wildcard in S.\n",
      "  -b [ --bit_precision ] arg            number of bits in the feature table\n",
      "  --noconstant                          Don't add a constant feature\n",
      "  -C [ --constant ] arg                 Set initial value of constant\n",
      "  --ngram arg                           Generate N grams. To generate N grams \n",
      "                                        for a single namespace 'foo', arg \n",
      "                                        should be fN.\n",
      "  --skips arg                           Generate skips in N grams. This in \n",
      "                                        conjunction with the ngram tag can be \n",
      "                                        used to generate generalized \n",
      "                                        n-skip-k-gram. To generate n-skips for \n",
      "                                        a single namespace 'foo', arg should be\n",
      "                                        fN.\n",
      "  --feature_limit arg                   limit to N features. To apply to a \n",
      "                                        single namespace 'foo', arg should be \n",
      "                                        fN\n",
      "  --affix arg                           generate prefixes/suffixes of features;\n",
      "                                        argument '+2a,-3b,+1' means generate \n",
      "                                        2-char prefixes for namespace a, 3-char\n",
      "                                        suffixes for b and 1 char prefixes for \n",
      "                                        default namespace\n",
      "  --spelling arg                        compute spelling features for a give \n",
      "                                        namespace (use '_' for default \n",
      "                                        namespace)\n",
      "  --dictionary arg                      read a dictionary for additional \n",
      "                                        features (arg either 'x:file' or just \n",
      "                                        'file')\n",
      "  --dictionary_path arg                 look in this directory for \n",
      "                                        dictionaries; defaults to current \n",
      "                                        directory or env{PATH}\n",
      "  --interactions arg                    Create feature interactions of any \n",
      "                                        level between namespaces.\n",
      "  --permutations                        Use permutations instead of \n",
      "                                        combinations for feature interactions \n",
      "                                        of same namespace.\n",
      "  --leave_duplicate_interactions        Don't remove interactions with \n",
      "                                        duplicate combinations of namespaces. \n",
      "                                        For ex. this is a duplicate: '-q ab -q \n",
      "                                        ba' and a lot more in '-q ::'.\n",
      "  -q [ --quadratic ] arg                Create and use quadratic features\n",
      "  --q: arg                              : corresponds to a wildcard for all \n",
      "                                        printable characters\n",
      "  --cubic arg                           Create and use cubic features\n",
      "\n",
      "Example options:\n",
      "  -t [ --testonly ]                     Ignore label information and just test\n",
      "  --holdout_off                         no holdout data in multiple passes\n",
      "  --holdout_period arg                  holdout period for test only, default \n",
      "                                        10\n",
      "  --holdout_after arg                   holdout after n training examples, \n",
      "                                        default off (disables holdout_period)\n",
      "  --early_terminate arg                 Specify the number of passes tolerated \n",
      "                                        when holdout loss doesn't decrease \n",
      "                                        before early termination, default is 3\n",
      "  --passes arg                          Number of Training Passes\n",
      "  --initial_pass_length arg             initial number of examples per pass\n",
      "  --examples arg                        number of examples to parse\n",
      "  --min_prediction arg                  Smallest prediction to output\n",
      "  --max_prediction arg                  Largest prediction to output\n",
      "  --sort_features                       turn this on to disregard order in \n",
      "                                        which features have been defined. This \n",
      "                                        will lead to smaller cache sizes\n",
      "  --loss_function arg (=squared)        Specify the loss function to be used, \n",
      "                                        uses squared by default. Currently \n",
      "                                        available ones are squared, classic, \n",
      "                                        hinge, logistic, quantile and poisson.\n",
      "  --quantile_tau arg (=0.5)             Parameter \\tau associated with Quantile\n",
      "                                        loss. Defaults to 0.5\n",
      "  --l1 arg                              l_1 lambda\n",
      "  --l2 arg                              l_2 lambda\n",
      "  --no_bias_regularization arg          no bias in regularization\n",
      "  --named_labels arg                    use names for labels (multiclass, etc.)\n",
      "                                        rather than integers, argument \n",
      "                                        specified all possible labels, \n",
      "                                        comma-sep, eg \"--named_labels \n",
      "                                        Noun,Verb,Adj,Punc\"\n",
      "\n",
      "Output model:\n",
      "  -f [ --final_regressor ] arg          Final regressor\n",
      "  --readable_model arg                  Output human-readable final regressor \n",
      "                                        with numeric features\n",
      "  --invert_hash arg                     Output human-readable final regressor \n",
      "                                        with feature names.  Computationally \n",
      "                                        expensive.\n",
      "  --save_resume                         save extra state so learning can be \n",
      "                                        resumed later with new data\n",
      "  --preserve_performance_counters       reset performance counters when \n",
      "                                        warmstarting\n",
      "  --save_per_pass                       Save the model after every pass over \n",
      "                                        data\n",
      "  --output_feature_regularizer_binary arg\n",
      "                                        Per feature regularization output file\n",
      "  --output_feature_regularizer_text arg Per feature regularization output file,\n",
      "                                        in text\n",
      "  --id arg                              User supplied ID embedded into the \n",
      "                                        final regressor\n",
      "\n",
      "Output options:\n",
      "  -p [ --predictions ] arg              File to output predictions to\n",
      "  -r [ --raw_predictions ] arg          File to output unnormalized predictions\n",
      "                                        to\n",
      "\n",
      "Reduction options, use [option] --help for more info:\n",
      "\n",
      "  --audit_regressor arg                 stores feature names and their \n",
      "                                        regressor values. Same dataset must be \n",
      "                                        used for both regressor training and \n",
      "                                        this mode.\n",
      "\n",
      "  --bootstrap arg                       k-way bootstrap by online importance \n",
      "                                        resampling\n",
      "\n",
      "  --search arg                          Use learning to search, \n",
      "                                        argument=maximum action id or 0 for LDF\n",
      "\n",
      "  --replay_c arg                        use experience replay at a specified \n",
      "                                        level [b=classification/regression, \n",
      "                                        m=multiclass, c=cost sensitive] with \n",
      "                                        specified buffer size\n",
      "\n",
      "  --explore_eval                        Evaluate explore_eval adf policies\n",
      "\n",
      "  --cbify arg                           Convert multiclass on <k> classes into \n",
      "                                        a contextual bandit problem\n",
      "\n",
      "  --cb_explore_adf                      Online explore-exploit for a contextual\n",
      "                                        bandit problem with multiline action \n",
      "                                        dependent features\n",
      "\n",
      "  --cb_explore arg                      Online explore-exploit for a <k> action\n",
      "                                        contextual bandit problem\n",
      "\n",
      "  --multiworld_test arg                 Evaluate features as a policies\n",
      "\n",
      "  --cb_adf                              Do Contextual Bandit learning with \n",
      "                                        multiline action dependent features.\n",
      "\n",
      "  --cb arg                              Use contextual bandit learning with <k>\n",
      "                                        costs\n",
      "\n",
      "  --csoaa_ldf arg                       Use one-against-all multiclass learning\n",
      "                                        with label dependent features.  Specify\n",
      "                                        singleline or multiline.\n",
      "\n",
      "  --wap_ldf arg                         Use weighted all-pairs multiclass \n",
      "                                        learning with label dependent features.\n",
      "                                          Specify singleline or multiline.\n",
      "\n",
      "  --interact arg                        Put weights on feature products from \n",
      "                                        namespaces <n1> and <n2>\n",
      "\n",
      "  --csoaa arg                           One-against-all multiclass with <k> \n",
      "                                        costs\n",
      "\n",
      "  --multilabel_oaa arg                  One-against-all multilabel with <k> \n",
      "                                        labels\n",
      "\n",
      "  --recall_tree arg                     Use online tree for multiclass\n",
      "\n",
      "  --log_multi arg                       Use online tree for multiclass\n",
      "\n",
      "  --ect arg                             Error correcting tournament with <k> \n",
      "                                        labels\n",
      "\n",
      "  --boosting arg                        Online boosting with <N> weak learners\n",
      "\n",
      "  --oaa arg                             One-against-all multiclass with <k> \n",
      "                                        labels\n",
      "\n",
      "  --top arg                             top k recommendation\n",
      "\n",
      "  --replay_m arg                        use experience replay at a specified \n",
      "                                        level [b=classification/regression, \n",
      "                                        m=multiclass, c=cost sensitive] with \n",
      "                                        specified buffer size\n",
      "\n",
      "  --binary                              report loss as binary classification on\n",
      "                                        -1,1\n",
      "\n",
      "  --link arg (=identity)                Specify the link function: identity, \n",
      "                                        logistic, glf1 or poisson\n",
      "\n",
      "  --stage_poly                          use stagewise polynomial feature \n",
      "                                        learning\n",
      "\n",
      "  --lrqfa arg                           use low rank quadratic features with \n",
      "                                        field aware weights\n",
      "\n",
      "  --lrq arg                             use low rank quadratic features\n",
      "\n",
      "  --autolink arg                        create link function with polynomial d\n",
      "\n",
      "  --marginal arg                        substitute marginal label estimates for\n",
      "                                        ids\n",
      "\n",
      "  --new_mf arg                          rank for reduction-based matrix \n",
      "                                        factorization\n",
      "\n",
      "  --nn arg                              Sigmoidal feedforward network with <k> \n",
      "                                        hidden units\n",
      "\n",
      "confidence options:\n",
      "  --confidence_after_training           Confidence after training\n",
      "\n",
      "  --confidence                          Get confidence for binary predictions\n",
      "\n",
      "  --active_cover                        enable active learning with cover\n",
      "\n",
      "  --active                              enable active learning\n",
      "\n",
      "  --replay_b arg                        use experience replay at a specified \n",
      "                                        level [b=classification/regression, \n",
      "                                        m=multiclass, c=cost sensitive] with \n",
      "                                        specified buffer size\n",
      "\n",
      "  --OjaNewton                           Online Newton with Oja's Sketch\n",
      "\n",
      "  --bfgs                                use bfgs optimization\n",
      "\n",
      "  --conjugate_gradient                  use conjugate gradient based \n",
      "                                        optimization\n",
      "\n",
      "  --lda arg                             Run lda with <int> topics\n",
      "\n",
      "  --noop                                do no learning\n",
      "\n",
      "  --print                               print examples\n",
      "\n",
      "  --rank arg                            rank for matrix factorization.\n",
      "\n",
      "  --sendto arg                          send examples to <host>\n",
      "\n",
      "  --svrg                                Streaming Stochastic Variance Reduced \n",
      "                                        Gradient\n",
      "\n",
      "  --ftrl                                FTRL: Follow the Proximal Regularized \n",
      "                                        Leader\n",
      "\n",
      "  --pistol                              FTRL: Parameter-free Stochastic \n",
      "                                        Learning\n",
      "\n",
      "  --ksvm                                kernel svm\n",
      "\n",
      "Gradient Descent options:\n",
      "  --sgd                                 use regular stochastic gradient descent\n",
      "                                        update.\n",
      "  --adaptive                            use adaptive, individual learning \n",
      "                                        rates.\n",
      "  --invariant                           use safe/importance aware updates.\n"
     ]
    },
    {
     "name": "stdout",
     "output_type": "stream",
     "text": [
      "  --normalized                          use per feature normalized updates\n",
      "  --sparse_l2 arg (=0)                  use per feature normalized updates\n",
      "\n",
      "Input options:\n",
      "  -d [ --data ] arg                     Example Set\n",
      "  --daemon                              persistent daemon mode on port 26542\n",
      "  --port arg                            port to listen on; use 0 to pick unused\n",
      "                                        port\n",
      "  --num_children arg                    number of children for persistent \n",
      "                                        daemon mode\n",
      "  --pid_file arg                        Write pid file in persistent daemon \n",
      "                                        mode\n",
      "  --port_file arg                       Write port used in persistent daemon \n",
      "                                        mode\n",
      "  -c [ --cache ]                        Use a cache.  The default is \n",
      "                                        <data>.cache\n",
      "  --cache_file arg                      The location(s) of cache_file.\n",
      "  --json                                Enable JSON parsing.\n",
      "  -k [ --kill_cache ]                   do not reuse existing cache: create a \n",
      "                                        new one always\n",
      "  --compressed                          use gzip format whenever possible. If a\n",
      "                                        cache file is being created, this \n",
      "                                        option creates a compressed cache file.\n",
      "                                        A mixture of raw-text & compressed \n",
      "                                        inputs are supported with \n",
      "                                        autodetection.\n",
      "  --no_stdin                            do not default to reading from stdin\n",
      "\n"
     ]
    },
    {
     "name": "stderr",
     "output_type": "stream",
     "text": [
      "Num weight bits = 18\n",
      "learning rate = 0.5\n",
      "initial_t = 0\n",
      "power_t = 0.5\n",
      "using no cache\n",
      "Reading datafile = \n",
      "num sources = 1\n"
     ]
    }
   ],
   "source": [
    "!\"C:\\\\Program Files\\\\VowpalWabbit\\\\vw.exe\" --help"
   ]
  },
  {
   "cell_type": "code",
   "execution_count": null,
   "metadata": {
    "collapsed": true
   },
   "outputs": [],
   "source": []
  },
  {
   "cell_type": "markdown",
   "metadata": {
    "collapsed": true
   },
   "source": [
    "Vowpal Wabbit считывает данные из файла или стандартного ввода (stdin) в формате, который имеет следующий вид:\n",
    "\n",
    "`[Label] [Importance] [Tag]|Namespace Features |Namespace Features ... |Namespace Features`\n",
    "\n",
    "`Namespace=String[:Value]`\n",
    "\n",
    "`Features=(String[:Value] )*`\n",
    "\n",
    "где [] обозначает необязательные элементы, а (...)\\* означает повтор неопределенное число раз. \n",
    "\n",
    "- **Label** является числом, \"правильным\" ответом. В случае классификации обычно принимает значение 1/-1, а в случае регрессии некоторое вещественное число\n",
    "- **Importance** является числом и отвечает за вес примера при обучении. Это позволяет бороться с проблемой несбалансированных данных, изученной нами ранее\n",
    "- **Tag** является некоторой строкой без пробелов и отвечает за некоторое \"название\" примера, которое сохраняется при предсказании ответа. Для того, чтобы отделить Tag от Importance лучше начинать Tag с символа '.\n",
    "- **Namespace** служит для создания отдельных пространств признаков. В аргументах Namespace именуются по первой букве, это нужно учитывать при выборе их названий\n",
    "- **Features** являются непосредственно признаками объекта внутри **Namespace**. Признаки по умолчанию имеют вес 1.0, но его можно переопределить, к примеру feature:0.1. \n",
    "\n",
    "\n",
    "К примеру, под такой формат подходит следующая строка:\n",
    "\n",
    "```\n",
    "1 1.0 |Subject WHAT car is this |Organization University of Maryland:0.5 College Park\n",
    "```\n",
    "\n",
    "\n",
    "чтобы убедиться в этом, запустим vw с этим обучающим примером:"
   ]
  },
  {
   "cell_type": "code",
   "execution_count": 3,
   "metadata": {},
   "outputs": [
    {
     "name": "stderr",
     "output_type": "stream",
     "text": [
      "Python 3.6.0 :: Anaconda 4.3.0 (64-bit)\n"
     ]
    }
   ],
   "source": [
    "!@python --version"
   ]
  },
  {
   "cell_type": "code",
   "execution_count": 4,
   "metadata": {},
   "outputs": [
    {
     "name": "stdout",
     "output_type": "stream",
     "text": [
      "warning: \"1 is not a good float, replacing with 0\n"
     ]
    },
    {
     "name": "stderr",
     "output_type": "stream",
     "text": [
      "Num weight bits = 18\n",
      "learning rate = 0.5\n",
      "initial_t = 0\n",
      "power_t = 0.5\n",
      "using no cache\n",
      "Reading datafile = \n",
      "num sources = 1\n",
      "average  since         example        example  current  current  current\n",
      "loss     last          counter         weight    label  predict features\n",
      "0.000000 0.000000            1            1.0   0.0000   0.0000       10\n",
      "\n",
      "finished run\n",
      "number of examples per pass = 1\n",
      "passes used = 1\n",
      "weighted example sum = 1.000000\n",
      "weighted label sum = 0.000000\n",
      "average loss = 0.000000\n",
      "total feature number = 10\n"
     ]
    }
   ],
   "source": [
    "!echo \"1 1.0 |Subject WHAT car is this |Organization University of Maryland:0.5 College Park\" | \"C:\\\\Program Files\\\\VowpalWabbit\\\\vw.exe\""
   ]
  },
  {
   "cell_type": "code",
   "execution_count": 5,
   "metadata": {},
   "outputs": [
    {
     "name": "stdout",
     "output_type": "stream",
     "text": [
      "warning: \"1 is not a good float, replacing with 0\n"
     ]
    },
    {
     "name": "stderr",
     "output_type": "stream",
     "text": [
      "Num weight bits = 18\n",
      "learning rate = 0.5\n",
      "initial_t = 0\n",
      "power_t = 0.5\n",
      "using no cache\n",
      "Reading datafile = \n",
      "num sources = 1\n",
      "average  since         example        example  current  current  current\n",
      "loss     last          counter         weight    label  predict features\n",
      "0.000000 0.000000            1            1.0   0.0000   0.0000       10\n",
      "\n",
      "finished run\n",
      "number of examples per pass = 1\n",
      "passes used = 1\n",
      "weighted example sum = 1.000000\n",
      "weighted label sum = 0.000000\n",
      "average loss = 0.000000\n",
      "total feature number = 10\n"
     ]
    }
   ],
   "source": [
    "! echo \"1 1.0 |Subject WHAT car is this |Organization University of Maryland:0.5 College Park\" | \"C:\\\\Program Files\\\\VowpalWabbit\\\\vw.exe\" "
   ]
  },
  {
   "cell_type": "markdown",
   "metadata": {},
   "source": [
    "VW является прекрасным инструментом для работы с текстовыми данными. Убедимся в этом с помощью выборки 20newsgroups, содержащей новости из 20 различных тематических рассылок:"
   ]
  },
  {
   "cell_type": "code",
   "execution_count": 3,
   "metadata": {
    "collapsed": true
   },
   "outputs": [],
   "source": [
    "newsgroups = sklearn.datasets.fetch_20newsgroups('news_data/')"
   ]
  },
  {
   "cell_type": "code",
   "execution_count": 4,
   "metadata": {},
   "outputs": [
    {
     "data": {
      "text/plain": [
       "['alt.atheism',\n",
       " 'comp.graphics',\n",
       " 'comp.os.ms-windows.misc',\n",
       " 'comp.sys.ibm.pc.hardware',\n",
       " 'comp.sys.mac.hardware',\n",
       " 'comp.windows.x',\n",
       " 'misc.forsale',\n",
       " 'rec.autos',\n",
       " 'rec.motorcycles',\n",
       " 'rec.sport.baseball',\n",
       " 'rec.sport.hockey',\n",
       " 'sci.crypt',\n",
       " 'sci.electronics',\n",
       " 'sci.med',\n",
       " 'sci.space',\n",
       " 'soc.religion.christian',\n",
       " 'talk.politics.guns',\n",
       " 'talk.politics.mideast',\n",
       " 'talk.politics.misc',\n",
       " 'talk.religion.misc']"
      ]
     },
     "execution_count": 4,
     "metadata": {},
     "output_type": "execute_result"
    }
   ],
   "source": [
    "newsgroups['target_names']"
   ]
  },
  {
   "cell_type": "markdown",
   "metadata": {},
   "source": [
    "Рассмотрим первый текстовый документ этой коллекции:"
   ]
  },
  {
   "cell_type": "code",
   "execution_count": 5,
   "metadata": {},
   "outputs": [
    {
     "name": "stdout",
     "output_type": "stream",
     "text": [
      "-----\n",
      "rec.autos\n",
      "-----\n",
      "From: lerxst@wam.umd.edu (where's my thing)\n",
      "Subject: WHAT car is this!?\n",
      "Nntp-Posting-Host: rac3.wam.umd.edu\n",
      "Organization: University of Maryland, College Park\n",
      "Lines: 15\n",
      "\n",
      " I was wondering if anyone out there could enlighten me on this car I saw\n",
      "the other day. It was a 2-door sports car, looked to be from the late 60s/\n",
      "early 70s. It was called a Bricklin. The doors were really small. In addition,\n",
      "the front bumper was separate from the rest of the body. This is \n",
      "all I know. If anyone can tellme a model name, engine specs, years\n",
      "of production, where this car is made, history, or whatever info you\n",
      "have on this funky looking car, please e-mail.\n",
      "\n",
      "Thanks,\n",
      "- IL\n",
      "   ---- brought to you by your neighborhood Lerxst ----\n",
      "----\n"
     ]
    }
   ],
   "source": [
    "text = newsgroups['data'][0]\n",
    "target = newsgroups['target_names'][newsgroups['target'][0]]\n",
    "\n",
    "print('-----')\n",
    "print(target)\n",
    "print('-----')\n",
    "print(text.strip())\n",
    "print('----')"
   ]
  },
  {
   "cell_type": "markdown",
   "metadata": {},
   "source": [
    "**Приведем данные к формату Vowpal Wabbit, при этом оставляя только слова не короче 3 символов. Здесь мы не выполняем многие важные в анализе текстов процедуры (стемминг и лемматизацию), но, как увидим, задача и так будет решаться хорошо.**"
   ]
  },
  {
   "cell_type": "code",
   "execution_count": 6,
   "metadata": {},
   "outputs": [
    {
     "data": {
      "text/plain": [
       "'1 |text from lerxst wam umd edu where thing subject what car this nntp posting host rac3 wam umd edu organization university maryland college park lines was wondering anyone out there could enlighten this car saw the other day was door sports car looked from the late 60s early 70s was called bricklin the doors were really small addition the front bumper was separate from the rest the body this all know anyone can tellme model name engine specs years production where this car made history whatever info you have this funky looking car please mail thanks brought you your neighborhood lerxst\\n'"
      ]
     },
     "execution_count": 6,
     "metadata": {},
     "output_type": "execute_result"
    }
   ],
   "source": [
    "def to_vw_format(document, label=None):\n",
    "    return str(label or '') + ' |text ' + ' '.join(re.findall('\\w{3,}', document.lower())) + '\\n'\n",
    "\n",
    "to_vw_format(text, 1 if target == 'rec.autos' else -1)"
   ]
  },
  {
   "cell_type": "markdown",
   "metadata": {},
   "source": [
    "Разобьем выборку на обучающую и тестовую и запишем в файл преобразованные таким образом документы. Будем считать документ положительным, если он относится к рассылке про автомобили **rec.autos**. Так мы построим модель, отличающую новости про автомобили от остальных: "
   ]
  },
  {
   "cell_type": "code",
   "execution_count": 7,
   "metadata": {
    "collapsed": true
   },
   "outputs": [],
   "source": [
    "all_documents = newsgroups['data']\n",
    "all_targets = [1 if newsgroups['target_names'][target] == 'rec.autos' \n",
    "               else -1 for target in newsgroups['target']]"
   ]
  },
  {
   "cell_type": "code",
   "execution_count": 8,
   "metadata": {
    "collapsed": true
   },
   "outputs": [],
   "source": [
    "train_documents, test_documents, train_labels, test_labels = \\\n",
    "    train_test_split(all_documents, all_targets, random_state=17)\n",
    "    \n",
    "with open('news_data/20news_train.vw', 'w', encoding='utf-8') as vw_train_data:\n",
    "    for text, target in zip(train_documents, train_labels):\n",
    "        vw_train_data.write(to_vw_format(text, target))\n",
    "with open('news_data/20news_test.vw', 'w', encoding='utf-8')  as vw_test_data:\n",
    "    for text in test_documents:\n",
    "        vw_test_data.write(to_vw_format(text))"
   ]
  },
  {
   "cell_type": "markdown",
   "metadata": {},
   "source": [
    "Запустим Vowpal Wabbit на сформированном файле. Мы решаем задачу классификации, поэтому зададим функцию потерь в значение hinge (линейный SVM). Построенную модель мы сохраним в соответствующий файл `20news_model.vw`:"
   ]
  },
  {
   "cell_type": "code",
   "execution_count": 9,
   "metadata": {
    "scrolled": true
   },
   "outputs": [
    {
     "name": "stderr",
     "output_type": "stream",
     "text": [
      "final_regressor = news_data/20news_model.vw\n",
      "Num weight bits = 18\n",
      "learning rate = 0.5\n",
      "initial_t = 0\n",
      "power_t = 0.5\n",
      "using no cache\n",
      "Reading datafile = news_data/20news_train.vw\n",
      "num sources = 1\n",
      "average  since         example        example  current  current  current\n",
      "loss     last          counter         weight    label  predict features\n",
      "1.000000 1.000000            1            1.0  -1.0000   0.0000      144\n",
      "0.500000 0.000000            2            2.0  -1.0000  -1.0000      270\n",
      "0.340324 0.180648            4            4.0  -1.0000  -0.9480      244\n",
      "0.417071 0.493818            8            8.0  -1.0000  -1.0000      151\n",
      "0.283219 0.149366           16           16.0  -1.0000  -1.0000      128\n",
      "0.211971 0.140724           32           32.0  -1.0000  -0.3997       28\n",
      "0.116923 0.021875           64           64.0  -1.0000  -1.0000      103\n",
      "0.158355 0.199787          128          128.0  -1.0000  -0.8313      127\n",
      "0.125210 0.092065          256          256.0  -1.0000  -0.9422       46\n",
      "0.150460 0.175711          512          512.0  -1.0000  -1.0000      139\n",
      "0.133359 0.116258         1024         1024.0  -1.0000  -1.0000      136\n",
      "0.124270 0.115181         2048         2048.0  -1.0000  -1.0000      409\n",
      "0.105939 0.087609         4096         4096.0   1.0000   0.7067      167\n",
      "0.078980 0.052020         8192         8192.0  -1.0000  -1.0000      610\n",
      "\n",
      "finished run\n",
      "number of examples per pass = 8485\n",
      "passes used = 1\n",
      "weighted example sum = 8485.000000\n",
      "weighted label sum = -7577.000000\n",
      "average loss = 0.077667\n",
      "best constant = -1.000000\n",
      "best constant's loss = 0.107012\n",
      "total feature number = 1994587\n"
     ]
    }
   ],
   "source": [
    "!\"C:\\\\Program Files\\\\VowpalWabbit\\\\vw.exe\" -d news_data/20news_train.vw --loss_function hinge -f news_data/20news_model.vw"
   ]
  },
  {
   "cell_type": "markdown",
   "metadata": {},
   "source": [
    "Модель обучена. VW выводит достаточно много полезной информации по ходу обучения. Обратите внимание, что average loss снижался по ходу выполнения итераций. Для вычисления функции потерь VW использует еще не просмотренные примеры, поэтому, как правило, эта оценка является корректной. Применим обученную модель на тестовой выборке, сохраняя предсказания в файл с помощью опции -p: "
   ]
  },
  {
   "cell_type": "code",
   "execution_count": 10,
   "metadata": {
    "scrolled": true
   },
   "outputs": [
    {
     "name": "stderr",
     "output_type": "stream",
     "text": [
      "only testing\n",
      "predictions = news_data/20news_test_predictions.txt\n",
      "Num weight bits = 18\n",
      "learning rate = 0.5\n",
      "initial_t = 0\n",
      "power_t = 0.5\n",
      "using no cache\n",
      "Reading datafile = news_data/20news_test.vw\n",
      "num sources = 1\n",
      "average  since         example        example  current  current  current\n",
      "loss     last          counter         weight    label  predict features\n",
      "0.000000 0.000000            1            1.0  unknown  -1.0000      143\n",
      "0.000000 0.000000            2            2.0  unknown  -1.0000       42\n",
      "0.000000 0.000000            4            4.0  unknown  -0.8455       72\n",
      "0.000000 0.000000            8            8.0  unknown   0.5062       54\n",
      "0.000000 0.000000           16           16.0  unknown  -1.0000      796\n",
      "0.000000 0.000000           32           32.0  unknown  -1.0000      187\n",
      "0.000000 0.000000           64           64.0  unknown  -0.5900      215\n",
      "0.000000 0.000000          128          128.0  unknown  -1.0000      139\n",
      "0.000000 0.000000          256          256.0  unknown  -1.0000      248\n",
      "0.000000 0.000000          512          512.0  unknown  -1.0000      192\n",
      "0.000000 0.000000         1024         1024.0  unknown  -1.0000       97\n",
      "0.000000 0.000000         2048         2048.0  unknown  -1.0000      132\n",
      "\n",
      "finished run\n",
      "number of examples per pass = 2829\n",
      "passes used = 1\n",
      "weighted example sum = 2829.000000\n",
      "weighted label sum = 0.000000\n",
      "average loss = 0.000000\n",
      "total feature number = 696560\n"
     ]
    }
   ],
   "source": [
    "!\"C:\\\\Program Files\\\\VowpalWabbit\\\\vw.exe\" -i news_data/20news_model.vw -t -d news_data/20news_test.vw \\\n",
    "-p news_data/20news_test_predictions.txt"
   ]
  },
  {
   "cell_type": "markdown",
   "metadata": {},
   "source": [
    "Загрузим полученные предсказания, вычислим AUC и отобразим ROC-кривую:"
   ]
  },
  {
   "cell_type": "code",
   "execution_count": 11,
   "metadata": {
    "scrolled": true
   },
   "outputs": [
    {
     "data": {
      "image/png": "[encoded data removed]",
      "text/plain": [
       "<matplotlib.figure.Figure at 0x27a0822c358>"
      ]
     },
     "metadata": {},
     "output_type": "display_data"
    }
   ],
   "source": [
    "with open('news_data/20news_test_predictions.txt') as pred_file:\n",
    "    test_prediction = [float(label) \n",
    "                             for label in pred_file.readlines()]\n",
    "\n",
    "auc = sklearn.metrics.roc_auc_score(test_labels, test_prediction)\n",
    "roc_curve = sklearn.metrics.roc_curve(test_labels, test_prediction)\n",
    "\n",
    "with plt.xkcd():\n",
    "    plt.plot(roc_curve[0], roc_curve[1]);\n",
    "    plt.plot([0,1], [0,1])\n",
    "    plt.xlabel('FPR'); plt.ylabel('TPR'); plt.title('test AUC = %f' % (auc)); plt.axis([-0.05,1.05,-0.05,1.05]);"
   ]
  },
  {
   "cell_type": "markdown",
   "metadata": {},
   "source": [
    "Полученное значения AUC говорит о высоком качестве классификации."
   ]
  },
  {
   "cell_type": "markdown",
   "metadata": {},
   "source": [
    "## Часть 2. Тьюториал по Vowpal Wabbit. Новости. Многоклассовая классификация"
   ]
  },
  {
   "cell_type": "markdown",
   "metadata": {},
   "source": [
    "**Используем ту же выборку, что в прошлой части , но решаем задачу многоклассовой классификации. Тут Vowpal Wabbit слегка капризничает – он любит, чтоб метки классов были распределены от 1 до K, где K – число классов в задаче классификации (в нашем случае – 20). Поэтому придется применить LabelEncoder, да еще и +1 потом добавить (LabelEncoder переводит метки в диапозон от 0 до K-1).**"
   ]
  },
  {
   "cell_type": "code",
   "execution_count": 12,
   "metadata": {
    "collapsed": true
   },
   "outputs": [],
   "source": [
    "all_documents = newsgroups['data']\n",
    "topic_encoder = LabelEncoder()\n",
    "all_targets_mult = topic_encoder.fit_transform(newsgroups['target']) + 1"
   ]
  },
  {
   "cell_type": "markdown",
   "metadata": {},
   "source": [
    "**Выборки будут те же, а метки поменяются, `train_labels_mult` и `test_labels_mult` – векторы меток от 1 до 20.**"
   ]
  },
  {
   "cell_type": "code",
   "execution_count": 13,
   "metadata": {
    "collapsed": true
   },
   "outputs": [],
   "source": [
    "train_documents, test_documents, train_labels_mult, test_labels_mult = \\\n",
    "    train_test_split(all_documents, all_targets_mult, random_state=17)"
   ]
  },
  {
   "cell_type": "code",
   "execution_count": 14,
   "metadata": {
    "collapsed": true
   },
   "outputs": [],
   "source": [
    "with open('news_data/20news_train_mult.vw', 'w', encoding='utf-8') as vw_train_data:\n",
    "    for text, target in zip(train_documents, train_labels_mult):\n",
    "        vw_train_data.write(to_vw_format(text, target))\n",
    "with open('news_data/20news_test_mult.vw', 'w', encoding='utf-8') as vw_test_data:\n",
    "    for text in test_documents:\n",
    "        vw_test_data.write(to_vw_format(text))"
   ]
  },
  {
   "cell_type": "markdown",
   "metadata": {},
   "source": [
    "**Обучим Vowpal Wabbit в режиме многоклассовой классификации, передав параметр *oaa* (от \"one against all\"), равный числу классов. Также перечислим параметры, которые можно понастраивать, и от которых качество модели может довольно значительно зависеть (более полно – в официальном [тьюториале](https://github.com/JohnLangford/vowpal_wabbit/wiki/Tutorial) по Vowpal Wabbit):**\n",
    " - темп обучения (-l, по умолчанию 0.5) – коэффициент перед изменением весов модели при каждом изменении\n",
    " - степень убывания темпа обучения (--power_t, по умолчанию 0.5) – на практике проверено, что если темп обучения уменьшается при увеличении числа итераций стохастического градиентного спуска, то минимум функции находится лучше \n",
    " - функция потерь (--loss_function) – от нее, по сути, зависит обучаемый алгоритм\n",
    " - регуляризация (-l1) – тут надо обратить внимание на то, что в VW регуляризация считается для каждого объекта, поэтому коэффициенты регуляризации обычно берутся малыми, около $10^{-20}.$\n",
    " \n",
    " **Дополнительно: в соревновании можно попробовать автоматическую настройку параметров Vowpal Wabbit с Hyperopt. Пока это работает только с Python 2. [Статья](https://habrahabr.ru/company/dca/blog/272697/) на Хабре.**"
   ]
  },
  {
   "cell_type": "code",
   "execution_count": 15,
   "metadata": {},
   "outputs": [
    {
     "name": "stderr",
     "output_type": "stream",
     "text": [
      "final_regressor = news_data/20news_model_mult.vw\n",
      "Num weight bits = 18\n",
      "learning rate = 0.5\n",
      "initial_t = 0\n",
      "power_t = 0.5\n",
      "using no cache\n",
      "Reading datafile = news_data/20news_train_mult.vw\n",
      "num sources = 1\n",
      "average  since         example        example  current  current  current\n",
      "loss     last          counter         weight    label  predict features\n",
      "0.000000 0.000000            1            1.0        1        1      144\n",
      "0.500000 1.000000            2            2.0       16        1      270\n",
      "0.750000 1.000000            4            4.0       10       14      244\n",
      "0.875000 1.000000            8            8.0       13       10      151\n",
      "0.937500 1.000000           16           16.0        9       17      128\n",
      "0.875000 0.812500           32           32.0       15        5       28\n",
      "0.875000 0.875000           64           64.0        3        3      103\n",
      "0.835938 0.796875          128          128.0       15       15      127\n",
      "0.750000 0.664063          256          256.0       20        3       46\n",
      "0.628906 0.507813          512          512.0       17       17      139\n",
      "0.506836 0.384766         1024         1024.0        4        4      136\n",
      "0.387207 0.267578         2048         2048.0        7        3      409\n",
      "0.294922 0.202637         4096         4096.0        8        8      167\n",
      "0.225830 0.156738         8192         8192.0       16       16      610\n",
      "\n",
      "finished run\n",
      "number of examples per pass = 8485\n",
      "passes used = 1\n",
      "weighted example sum = 8485.000000\n",
      "weighted label sum = 0.000000\n",
      "average loss = 0.222275\n",
      "total feature number = 1994587\n"
     ]
    },
    {
     "name": "stdout",
     "output_type": "stream",
     "text": [
      "Wall time: 722 ms\n"
     ]
    }
   ],
   "source": [
    "%%time\n",
    "!\"C:\\\\Program Files\\\\VowpalWabbit\\\\vw.exe\" --oaa 20 news_data/20news_train_mult.vw -f news_data/20news_model_mult.vw \\\n",
    "--loss_function=hinge"
   ]
  },
  {
   "cell_type": "code",
   "execution_count": 16,
   "metadata": {},
   "outputs": [
    {
     "name": "stderr",
     "output_type": "stream",
     "text": [
      "only testing\n",
      "predictions = news_data/20news_test_predictions_mult.txt\n",
      "Num weight bits = 18\n",
      "learning rate = 0.5\n",
      "initial_t = 0\n",
      "power_t = 0.5\n",
      "using no cache\n",
      "Reading datafile = news_data/20news_test_mult.vw\n",
      "num sources = 1\n",
      "average  since         example        example  current  current  current\n",
      "loss     last          counter         weight    label  predict features\n",
      "1.000000 1.000000            1            1.0  unknown        4      143\n",
      "1.000000 1.000000            2            2.0  unknown        5       42\n",
      "1.000000 1.000000            4            4.0  unknown       13       72\n",
      "1.000000 1.000000            8            8.0  unknown        8       54\n",
      "1.000000 1.000000           16           16.0  unknown        1      796\n",
      "1.000000 1.000000           32           32.0  unknown       11      187\n",
      "1.000000 1.000000           64           64.0  unknown       13      215\n",
      "1.000000 1.000000          128          128.0  unknown       13      139\n",
      "1.000000 1.000000          256          256.0  unknown       17      248\n",
      "1.000000 1.000000          512          512.0  unknown        6      192\n",
      "1.000000 1.000000         1024         1024.0  unknown       14       97\n",
      "1.000000 1.000000         2048         2048.0  unknown        6      132\n",
      "\n",
      "finished run\n",
      "number of examples per pass = 2829\n",
      "passes used = 1\n",
      "weighted example sum = 2829.000000\n",
      "weighted label sum = 0.000000\n",
      "average loss = 1.000000\n",
      "total feature number = 696560\n"
     ]
    },
    {
     "name": "stdout",
     "output_type": "stream",
     "text": [
      "Wall time: 282 ms\n"
     ]
    }
   ],
   "source": [
    "%%time\n",
    "!\"C:\\\\Program Files\\\\VowpalWabbit\\\\vw.exe\" -i news_data/20news_model_mult.vw -t -d news_data/20news_test_mult.vw \\\n",
    "-p news_data/20news_test_predictions_mult.txt"
   ]
  },
  {
   "cell_type": "code",
   "execution_count": 17,
   "metadata": {
    "collapsed": true
   },
   "outputs": [],
   "source": [
    "with open('news_data/20news_test_predictions_mult.txt') as pred_file:\n",
    "    test_prediction_mult = [float(label) \n",
    "                             for label in pred_file.readlines()]"
   ]
  },
  {
   "cell_type": "code",
   "execution_count": 18,
   "metadata": {},
   "outputs": [
    {
     "data": {
      "text/plain": [
       "0.87133262636974196"
      ]
     },
     "execution_count": 18,
     "metadata": {},
     "output_type": "execute_result"
    }
   ],
   "source": [
    "accuracy_score(test_labels_mult, test_prediction_mult)"
   ]
  },
  {
   "cell_type": "markdown",
   "metadata": {},
   "source": [
    "**Выведем раскрашенную матрицу ошибок полученного классификатора.**"
   ]
  },
  {
   "cell_type": "code",
   "execution_count": 19,
   "metadata": {},
   "outputs": [
    {
     "data": {
      "image/png": "[encoded data removed]",
      "text/plain": [
       "<matplotlib.figure.Figure at 0x27a06212fd0>"
      ]
     },
     "metadata": {},
     "output_type": "display_data"
    }
   ],
   "source": [
    "from sklearn.metrics import confusion_matrix\n",
    "\n",
    "M = confusion_matrix(test_labels_mult, test_prediction_mult)\n",
    "M_normalized = M.astype('float') / M.sum(axis=1)[:, np.newaxis]\n",
    "\n",
    "plt.figure(figsize=(10,10))\n",
    "im = plt.imshow(M_normalized, interpolation='nearest', cmap='Greens')\n",
    "plt.colorbar(im, shrink=0.71)\n",
    "tick_marks = np.arange(len(newsgroups['target_names']))\n",
    "plt.xticks(tick_marks - 0.5, newsgroups['target_names'], rotation=45)\n",
    "plt.yticks(tick_marks, newsgroups['target_names'])\n",
    "plt.tight_layout()\n",
    "plt.ylabel('True topic')\n",
    "plt.xlabel('Predicted topic')\n",
    "plt.title('Normalized confusion matrix')\n",
    "plt.show()"
   ]
  },
  {
   "cell_type": "markdown",
   "metadata": {},
   "source": [
    "## Часть 3. Тьюториал по Vowpal Wabbit. Рецензии к фильмам IMDB"
   ]
  },
  {
   "cell_type": "markdown",
   "metadata": {},
   "source": [
    "**В этой части мы будем заниматься бинарной классификацией отзывов к фильмам, публикованным на сайте IMDB. Обратите внимание, насколько быстро будет работать Vowpal Wabbit.**\n",
    "\n",
    "**Используем функцию `load_files` из `sklearn.datasets` для загрузки отзывов по фильмам [отсюда](https://yadi.sk/d/Tg1Tflur333iLr). Скачайте данные и положите рядом с этой тетрадкой в каталог *imdb_reviews* (в нем должны быть каталоги *train* и *test*). Разархивирование может занять несколько минут – там 100 тыс. файлов. В обучающей и тестовой выборках по 12500 тысяч хороших и плохих отзывов к фильмам. Отделим данные (собственно тексты) от меток.**"
   ]
  },
  {
   "cell_type": "code",
   "execution_count": 20,
   "metadata": {
    "collapsed": true
   },
   "outputs": [],
   "source": [
    "from sklearn.datasets import load_files"
   ]
  },
  {
   "cell_type": "code",
   "execution_count": 21,
   "metadata": {
    "collapsed": true
   },
   "outputs": [],
   "source": [
    "# Поменяйте на свой путь\n",
    "#PATH_TO_MOVIE_DATA = 'C://Users//Evtisov_SS//Documents//GitHub//Coursera-machine-learning//final//project_web//week6//imdb'\n",
    "PATH_TO_MOVIE_DATA = 'C://temp//aclImdb'\n",
    "#/Users/y.kashnitsky/Yandex.Disk.localized/ML/data/imdb_reviews'"
   ]
  },
  {
   "cell_type": "code",
   "execution_count": 22,
   "metadata": {
    "collapsed": true
   },
   "outputs": [],
   "source": [
    "reviews_train = load_files(os.path.join(PATH_TO_MOVIE_DATA, 'train'))\n",
    "text_train, y_train = reviews_train.data, reviews_train.target"
   ]
  },
  {
   "cell_type": "code",
   "execution_count": 23,
   "metadata": {},
   "outputs": [
    {
     "name": "stdout",
     "output_type": "stream",
     "text": [
      "Number of documents in training data: 25000\n",
      "[12500 12500]\n"
     ]
    }
   ],
   "source": [
    "print(\"Number of documents in training data: %d\" % len(text_train))\n",
    "print(np.bincount(y_train))"
   ]
  },
  {
   "cell_type": "markdown",
   "metadata": {},
   "source": [
    "То же самое с тестовой выборкой."
   ]
  },
  {
   "cell_type": "code",
   "execution_count": 24,
   "metadata": {},
   "outputs": [
    {
     "name": "stdout",
     "output_type": "stream",
     "text": [
      "Number of documents in test data: 25000\n",
      "[12500 12500]\n"
     ]
    }
   ],
   "source": [
    "reviews_test = load_files(os.path.join(PATH_TO_MOVIE_DATA, 'test'))\n",
    "text_test, y_test = reviews_test.data, reviews_train.target\n",
    "print(\"Number of documents in test data: %d\" % len(text_test))\n",
    "print(np.bincount(y_test))"
   ]
  },
  {
   "cell_type": "markdown",
   "metadata": {},
   "source": [
    "**Примеры отзывов и соответствующих меток.**"
   ]
  },
  {
   "cell_type": "code",
   "execution_count": 25,
   "metadata": {},
   "outputs": [
    {
     "data": {
      "text/plain": [
       "b\"Zero Day leads you to think, even re-think why two boys/young men would do what they did - commit mutual suicide via slaughtering their classmates. It captures what must be beyond a bizarre mode of being for two humans who have decided to withdraw from common civility in order to define their own/mutual world via coupled destruction.<br /><br />It is not a perfect movie but given what money/time the filmmaker and actors had - it is a remarkable product. In terms of explaining the motives and actions of the two young suicide/murderers it is better than 'Elephant' - in terms of being a film that gets under our 'rationalistic' skin it is a far, far better film than almost anything you are likely to see. <br /><br />Flawed but honest with a terrible honesty.\""
      ]
     },
     "execution_count": 25,
     "metadata": {},
     "output_type": "execute_result"
    }
   ],
   "source": [
    "text_train[0]"
   ]
  },
  {
   "cell_type": "code",
   "execution_count": 26,
   "metadata": {},
   "outputs": [
    {
     "data": {
      "text/plain": [
       "1"
      ]
     },
     "execution_count": 26,
     "metadata": {},
     "output_type": "execute_result"
    }
   ],
   "source": [
    "y_train[0] # хороший отзыв"
   ]
  },
  {
   "cell_type": "code",
   "execution_count": 27,
   "metadata": {},
   "outputs": [
    {
     "data": {
      "text/plain": [
       "b'Words can\\'t describe how bad this movie is. I can\\'t explain it by writing only. You have too see it for yourself to get at grip of how horrible a movie really can be. Not that I recommend you to do that. There are so many clich\\xc3\\xa9s, mistakes (and all other negative things you can imagine) here that will just make you cry. To start with the technical first, there are a LOT of mistakes regarding the airplane. I won\\'t list them here, but just mention the coloring of the plane. They didn\\'t even manage to show an airliner in the colors of a fictional airline, but instead used a 747 painted in the original Boeing livery. Very bad. The plot is stupid and has been done many times before, only much, much better. There are so many ridiculous moments here that i lost count of it really early. Also, I was on the bad guys\\' side all the time in the movie, because the good guys were so stupid. \"Executive Decision\" should without a doubt be you\\'re choice over this one, even the \"Turbulence\"-movies are better. In fact, every other movie in the world is better than this one.'"
      ]
     },
     "execution_count": 27,
     "metadata": {},
     "output_type": "execute_result"
    }
   ],
   "source": [
    "text_train[1]"
   ]
  },
  {
   "cell_type": "code",
   "execution_count": 28,
   "metadata": {},
   "outputs": [
    {
     "data": {
      "text/plain": [
       "0"
      ]
     },
     "execution_count": 28,
     "metadata": {},
     "output_type": "execute_result"
    }
   ],
   "source": [
    "y_train[1] # плохой отзыв"
   ]
  },
  {
   "cell_type": "markdown",
   "metadata": {},
   "source": [
    "**Будем использовать ранее написанную функцию `to_vw_format`.**"
   ]
  },
  {
   "cell_type": "code",
   "execution_count": 29,
   "metadata": {},
   "outputs": [
    {
     "data": {
      "text/plain": [
       "'1 |text words can describe how bad this movie can explain writing only you have too see for yourself get grip how horrible movie really can not that recommend you that there are many clich xc3 xa9s mistakes and all other negative things you can imagine here that will just make you cry start with the technical first there are lot mistakes regarding the airplane won list them here but just mention the coloring the plane they didn even manage show airliner the colors fictional airline but instead used 747 painted the original boeing livery very bad the plot stupid and has been done many times before only much much better there are many ridiculous moments here that lost count really early also was the bad guys side all the time the movie because the good guys were stupid executive decision should without doubt you choice over this one even the turbulence movies are better fact every other movie the world better than this one\\n'"
      ]
     },
     "execution_count": 29,
     "metadata": {},
     "output_type": "execute_result"
    }
   ],
   "source": [
    "to_vw_format(str(text_train[1]), 1 if y_train[0] == 1 else -1)"
   ]
  },
  {
   "cell_type": "markdown",
   "metadata": {},
   "source": [
    "**Подготовим обучающую (`movie_reviews_train.vw`), отложенную (`movie_reviews_valid.vw`) и тестовую (`movie_reviews_test.vw`) выборки для Vowpal Wabbit. 70% исходной обучаюшей выборки оставим под обучение, 30% – под отложенную выборку.**"
   ]
  },
  {
   "cell_type": "code",
   "execution_count": 30,
   "metadata": {
    "collapsed": true
   },
   "outputs": [],
   "source": [
    "train_share = int(0.7 * len(text_train))\n",
    "train, valid = text_train[:train_share], text_train[train_share:]\n",
    "train_labels, valid_labels = y_train[:train_share], y_train[train_share:]"
   ]
  },
  {
   "cell_type": "code",
   "execution_count": 31,
   "metadata": {},
   "outputs": [
    {
     "data": {
      "text/plain": [
       "(17500, 7500)"
      ]
     },
     "execution_count": 31,
     "metadata": {},
     "output_type": "execute_result"
    }
   ],
   "source": [
    "len(train_labels), len(valid_labels)"
   ]
  },
  {
   "cell_type": "code",
   "execution_count": 32,
   "metadata": {
    "collapsed": true
   },
   "outputs": [],
   "source": [
    "with open(os.path.join(PATH_TO_MOVIE_DATA, 'movie_reviews_train.vw'), 'w', encoding='utf-8') as vw_train_data:\n",
    "    for text, target in zip(train, train_labels):\n",
    "        vw_train_data.write(to_vw_format(str(text), 1 if target == 1 else -1))\n",
    "with open(os.path.join(PATH_TO_MOVIE_DATA, 'movie_reviews_valid.vw'), 'w', encoding='utf-8') as vw_train_data:\n",
    "    for text, target in zip(valid, valid_labels):\n",
    "        vw_train_data.write(to_vw_format(str(text), 1 if target == 1 else -1))\n",
    "with open(os.path.join(PATH_TO_MOVIE_DATA, 'movie_reviews_test.vw'), 'w', encoding='utf-8') as vw_test_data:\n",
    "    for text in text_test:\n",
    "        vw_test_data.write(to_vw_format(str(text)))"
   ]
  },
  {
   "cell_type": "code",
   "execution_count": 33,
   "metadata": {},
   "outputs": [
    {
     "name": "stderr",
     "output_type": "stream",
     "text": [
      "\"head\" ­Ґ пў«пҐвбп ў­гваҐ­­Ґ© Ё«Ё ў­Ґи­Ґ©\n",
      "Є®¬ ­¤®©, ЁбЇ®«­пҐ¬®© Їа®Ја ¬¬®© Ё«Ё Ї ЄҐв­л¬ д ©«®¬.\n"
     ]
    }
   ],
   "source": [
    "!head -2 $PATH_TO_MOVIE_DATA/movie_reviews_train.vw"
   ]
  },
  {
   "cell_type": "code",
   "execution_count": 34,
   "metadata": {},
   "outputs": [
    {
     "name": "stderr",
     "output_type": "stream",
     "text": [
      "\"head\" ­Ґ пў«пҐвбп ў­гваҐ­­Ґ© Ё«Ё ў­Ґи­Ґ©\n",
      "Є®¬ ­¤®©, ЁбЇ®«­пҐ¬®© Їа®Ја ¬¬®© Ё«Ё Ї ЄҐв­л¬ д ©«®¬.\n"
     ]
    }
   ],
   "source": [
    "!head -2 $PATH_TO_MOVIE_DATA/movie_reviews_valid.vw"
   ]
  },
  {
   "cell_type": "code",
   "execution_count": 35,
   "metadata": {},
   "outputs": [
    {
     "name": "stderr",
     "output_type": "stream",
     "text": [
      "\"head\" ­Ґ пў«пҐвбп ў­гваҐ­­Ґ© Ё«Ё ў­Ґи­Ґ©\n",
      "Є®¬ ­¤®©, ЁбЇ®«­пҐ¬®© Їа®Ја ¬¬®© Ё«Ё Ї ЄҐв­л¬ д ©«®¬.\n"
     ]
    }
   ],
   "source": [
    "!head -2 $PATH_TO_MOVIE_DATA/movie_reviews_test.vw"
   ]
  },
  {
   "cell_type": "markdown",
   "metadata": {},
   "source": [
    "**Обучим модель Vowpal Wabbit со следующими агрументами:**\n",
    "\n",
    " - -d, путь к обучающей выборке (соотв. файл .vw )\n",
    " - --loss_function – hinge (хотя можно и поэкспериментировать с другими)\n",
    " - -f – путь к файлу, в который запишется модель (можно тоже в формате .vw)"
   ]
  },
  {
   "cell_type": "code",
   "execution_count": 36,
   "metadata": {},
   "outputs": [
    {
     "name": "stderr",
     "output_type": "stream",
     "text": [
      "final_regressor = C://temp//aclImdb/movie_reviews_model.vw\n",
      "Num weight bits = 18\n",
      "learning rate = 0.5\n",
      "initial_t = 0\n",
      "power_t = 0.5\n",
      "using no cache\n",
      "Reading datafile = C://temp//aclImdb/movie_reviews_train.vw\n",
      "num sources = 1\n",
      "average  since         example        example  current  current  current\n",
      "loss     last          counter         weight    label  predict features\n",
      "1.000000 1.000000            1            1.0   1.0000   0.0000      105\n",
      "1.324514 1.649029            2            2.0  -1.0000   0.6490      164\n",
      "1.274999 1.225483            4            4.0  -1.0000   0.2310      110\n",
      "1.071162 0.867325            8            8.0  -1.0000   0.4609      219\n",
      "1.063382 1.055602           16           16.0   1.0000  -0.5401      204\n",
      "0.987534 0.911686           32           32.0   1.0000   0.2172      190\n",
      "1.016583 1.045631           64           64.0  -1.0000   0.3521      126\n",
      "0.917219 0.817854          128          128.0  -1.0000  -1.0000      106\n",
      "0.863816 0.810413          256          256.0  -1.0000  -1.0000       93\n",
      "0.752982 0.642148          512          512.0   1.0000   1.0000      325\n",
      "0.652552 0.552122         1024         1024.0  -1.0000  -1.0000      494\n",
      "0.586978 0.521403         2048         2048.0  -1.0000  -0.6998      105\n",
      "0.501923 0.416868         4096         4096.0  -1.0000  -0.8127      131\n",
      "0.428878 0.355834         8192         8192.0   1.0000   1.0000      118\n",
      "0.375668 0.322457        16384        16384.0  -1.0000  -1.0000      188\n",
      "\n",
      "finished run\n",
      "number of examples per pass = 17500\n",
      "passes used = 1\n",
      "weighted example sum = 17500.000000\n",
      "weighted label sum = -72.000000\n",
      "average loss = 0.367972\n",
      "best constant = -1.000000\n",
      "best constant's loss = 0.995886\n",
      "total feature number = 3258815\n"
     ]
    }
   ],
   "source": [
    "!\"C:\\\\Program Files\\\\VowpalWabbit\\\\vw.exe\" -d $PATH_TO_MOVIE_DATA/movie_reviews_train.vw \\\n",
    "--loss_function hinge -f $PATH_TO_MOVIE_DATA/movie_reviews_model.vw"
   ]
  },
  {
   "cell_type": "markdown",
   "metadata": {},
   "source": [
    "**Сделаем прогноз для отложенной выборки с помощью обученной модели Vowpal Wabbit, передав следующие аргументы:**\n",
    " - -i –путь к обученной модели (соотв. файл .vw)\n",
    " - -t -d – путь к отложенной выборке (соотв. файл .vw)\n",
    " - -p – путь к txt-файлу, куда запишутся прогнозы"
   ]
  },
  {
   "cell_type": "code",
   "execution_count": 37,
   "metadata": {},
   "outputs": [
    {
     "name": "stderr",
     "output_type": "stream",
     "text": [
      "only testing\n",
      "predictions = C://temp//aclImdb/movie_valid_pred.txt\n",
      "Num weight bits = 18\n",
      "learning rate = 0.5\n",
      "initial_t = 0\n",
      "power_t = 0.5\n",
      "using no cache\n",
      "Reading datafile = C://temp//aclImdb/movie_reviews_valid.vw\n",
      "num sources = 1\n",
      "average  since         example        example  current  current  current\n",
      "loss     last          counter         weight    label  predict features\n",
      "0.000000 0.000000            1            1.0   1.0000   1.0000      204\n",
      "0.016776 0.033551            2            2.0   1.0000   0.8168      132\n",
      "0.008388 0.000000            4            4.0   1.0000   1.0000       97\n",
      "0.012055 0.015722            8            8.0   1.0000   1.0000      128\n",
      "0.301133 0.590210           16           16.0   1.0000   0.9068       35\n",
      "0.287625 0.274117           32           32.0   1.0000   1.0000      268\n",
      "0.488315 0.689006           64           64.0   1.0000   0.7265       92\n",
      "0.408818 0.329320          128          128.0   1.0000   1.0000      272\n",
      "0.396541 0.384265          256          256.0   1.0000   1.0000      430\n",
      "0.399256 0.401971          512          512.0   1.0000   1.0000      136\n",
      "0.381387 0.363519         1024         1024.0   1.0000   0.7902      117\n",
      "0.355498 0.329608         2048         2048.0  -1.0000  -1.0000      771\n",
      "0.353539 0.351580         4096         4096.0  -1.0000  -1.0000      791\n",
      "\n",
      "finished run\n",
      "number of examples per pass = 7500\n",
      "passes used = 1\n",
      "weighted example sum = 7500.000000\n",
      "weighted label sum = 72.000000\n",
      "average loss = 0.358580\n",
      "best constant = 0.009600\n",
      "best constant's loss = 0.999908\n",
      "total feature number = 1386305\n"
     ]
    }
   ],
   "source": [
    "!\"C:\\\\Program Files\\\\VowpalWabbit\\\\vw.exe\" -i $PATH_TO_MOVIE_DATA/movie_reviews_model.vw \\\n",
    "-t -d $PATH_TO_MOVIE_DATA/movie_reviews_valid.vw \\\n",
    "-p $PATH_TO_MOVIE_DATA/movie_valid_pred.txt"
   ]
  },
  {
   "cell_type": "markdown",
   "metadata": {},
   "source": [
    "**Считаем прогноз из файла и посчитаем долю правильных ответов и ROC AUC. Учтем, что VW выводит оценки вероятности принадлежности к классу +1. Эти оценки распределены на [-1, 1], поэтому бинарным ответом алгоритма (0 или 1) будем попросту считать тот факт, что оценка получилась положительной.**"
   ]
  },
  {
   "cell_type": "code",
   "execution_count": 38,
   "metadata": {},
   "outputs": [
    {
     "name": "stdout",
     "output_type": "stream",
     "text": [
      "Accuracy: 0.885\n",
      "AUC: 0.942\n"
     ]
    }
   ],
   "source": [
    "with open(os.path.join(PATH_TO_MOVIE_DATA, 'movie_valid_pred.txt')) as pred_file:\n",
    "    valid_prediction = [float(label) \n",
    "                             for label in pred_file.readlines()]\n",
    "print(\"Accuracy: {}\".format(round(accuracy_score(valid_labels, \n",
    "               [int(pred_prob > 0) for pred_prob in valid_prediction]), 3)))\n",
    "print(\"AUC: {}\".format(round(roc_auc_score(valid_labels, valid_prediction), 3)))"
   ]
  },
  {
   "cell_type": "markdown",
   "metadata": {
    "collapsed": true
   },
   "source": [
    "**Сделаем то же самое для тестовой выборки.**"
   ]
  },
  {
   "cell_type": "code",
   "execution_count": 39,
   "metadata": {},
   "outputs": [
    {
     "name": "stderr",
     "output_type": "stream",
     "text": [
      "only testing\n",
      "predictions = C://temp//aclImdb/movie_test_pred.txt\n",
      "Num weight bits = 18\n",
      "learning rate = 0.5\n",
      "initial_t = 0\n",
      "power_t = 0.5\n",
      "using no cache\n",
      "Reading datafile = C://temp//aclImdb/movie_reviews_test.vw\n",
      "num sources = 1\n",
      "average  since         example        example  current  current  current\n",
      "loss     last          counter         weight    label  predict features\n",
      "0.000000 0.000000            1            1.0  unknown   0.1245       59\n",
      "0.000000 0.000000            2            2.0  unknown  -1.0000      103\n",
      "0.000000 0.000000            4            4.0  unknown  -1.0000      161\n",
      "0.000000 0.000000            8            8.0  unknown  -0.8256      365\n",
      "0.000000 0.000000           16           16.0  unknown   1.0000      319\n",
      "0.000000 0.000000           32           32.0  unknown   1.0000       95\n",
      "0.000000 0.000000           64           64.0  unknown  -0.9379      139\n",
      "0.000000 0.000000          128          128.0  unknown  -0.7748       92\n",
      "0.000000 0.000000          256          256.0  unknown  -0.1277      411\n",
      "0.000000 0.000000          512          512.0  unknown   1.0000       94\n",
      "0.000000 0.000000         1024         1024.0  unknown  -1.0000      403\n",
      "0.000000 0.000000         2048         2048.0  unknown  -1.0000      101\n",
      "0.000000 0.000000         4096         4096.0  unknown  -1.0000      140\n",
      "0.000000 0.000000         8192         8192.0  unknown   1.0000      182\n",
      "0.000000 0.000000        16384        16384.0  unknown  -1.0000      201\n",
      "\n",
      "finished run\n",
      "number of examples per pass = 25000\n",
      "passes used = 1\n",
      "weighted example sum = 25000.000000\n",
      "weighted label sum = 0.000000\n",
      "average loss = 0.000000\n",
      "total feature number = 4535055\n"
     ]
    }
   ],
   "source": [
    "!\"C:\\\\Program Files\\\\VowpalWabbit\\\\vw.exe\" -i $PATH_TO_MOVIE_DATA/movie_reviews_model.vw \\\n",
    "-t -d $PATH_TO_MOVIE_DATA/movie_reviews_test.vw \\\n",
    "-p $PATH_TO_MOVIE_DATA/movie_test_pred.txt"
   ]
  },
  {
   "cell_type": "code",
   "execution_count": 40,
   "metadata": {},
   "outputs": [
    {
     "name": "stdout",
     "output_type": "stream",
     "text": [
      "Accuracy: 0.88\n",
      "AUC: 0.94\n"
     ]
    }
   ],
   "source": [
    "with open(os.path.join(PATH_TO_MOVIE_DATA, 'movie_test_pred.txt')) as pred_file:\n",
    "    test_prediction = [float(label) \n",
    "                             for label in pred_file.readlines()]\n",
    "print(\"Accuracy: {}\".format(round(accuracy_score(y_test, \n",
    "               [int(pred_prob > 0) for pred_prob in test_prediction]), 3)))\n",
    "print(\"AUC: {}\".format(round(roc_auc_score(y_test, test_prediction), 3)))"
   ]
  },
  {
   "cell_type": "markdown",
   "metadata": {},
   "source": [
    "**Попробуем улучшить прогноз за счет задействования биграмм.**"
   ]
  },
  {
   "cell_type": "code",
   "execution_count": 41,
   "metadata": {},
   "outputs": [
    {
     "name": "stderr",
     "output_type": "stream",
     "text": [
      "Generating 2-grams for all namespaces.\n",
      "final_regressor = C://temp//aclImdb/movie_reviews_model2.vw\n",
      "Num weight bits = 18\n",
      "learning rate = 0.5\n",
      "initial_t = 0\n",
      "power_t = 0.5\n",
      "using no cache\n",
      "Reading datafile = C://temp//aclImdb/movie_reviews_train.vw\n",
      "num sources = 1\n",
      "average  since         example        example  current  current  current\n",
      "loss     last          counter         weight    label  predict features\n",
      "1.000000 1.000000            1            1.0   1.0000   0.0000      208\n",
      "1.163564 1.327128            2            2.0  -1.0000   0.3271      326\n",
      "1.132272 1.100979            4            4.0  -1.0000   0.1421      218\n",
      "1.038996 0.945721            8            8.0  -1.0000  -0.0209      436\n",
      "1.066398 1.093799           16           16.0   1.0000  -0.3067      406\n",
      "1.015723 0.965048           32           32.0   1.0000   0.1252      378\n",
      "0.998668 0.981614           64           64.0  -1.0000   0.1228      250\n",
      "0.944884 0.891100          128          128.0  -1.0000  -0.5893      210\n",
      "0.915717 0.886549          256          256.0  -1.0000  -0.5191      184\n",
      "0.840179 0.764641          512          512.0   1.0000   0.6381      648\n",
      "0.766950 0.693722         1024         1024.0  -1.0000  -0.9148      986\n",
      "0.696453 0.625956         2048         2048.0  -1.0000  -0.4542      208\n",
      "0.608606 0.520759         4096         4096.0  -1.0000  -0.9513      260\n",
      "0.519946 0.431286         8192         8192.0   1.0000   1.0000      234\n",
      "0.447116 0.374285        16384        16384.0  -1.0000  -1.0000      374\n",
      "\n",
      "finished run\n",
      "number of examples per pass = 17500\n",
      "passes used = 1\n",
      "weighted example sum = 17500.000000\n",
      "weighted label sum = -72.000000\n",
      "average loss = 0.438549\n",
      "best constant = -1.000000\n",
      "best constant's loss = 0.995886\n",
      "total feature number = 6482630\n"
     ]
    }
   ],
   "source": [
    "!\"C:\\\\Program Files\\\\VowpalWabbit\\\\vw.exe\" -d $PATH_TO_MOVIE_DATA/movie_reviews_train.vw \\\n",
    "--loss_function hinge --ngram 2 -f $PATH_TO_MOVIE_DATA/movie_reviews_model2.vw"
   ]
  },
  {
   "cell_type": "code",
   "execution_count": 42,
   "metadata": {},
   "outputs": [
    {
     "name": "stderr",
     "output_type": "stream",
     "text": [
      "Generating 2-grams for all namespaces.\n",
      "only testing\n",
      "predictions = C://temp//aclImdb/movie_valid_pred2.txt\n",
      "Num weight bits = 18\n",
      "learning rate = 0.5\n",
      "initial_t = 0\n",
      "power_t = 0.5\n",
      "using no cache\n",
      "Reading datafile = C://temp//aclImdb/movie_reviews_valid.vw\n",
      "num sources = 1\n",
      "average  since         example        example  current  current  current\n",
      "loss     last          counter         weight    label  predict features\n",
      "0.000000 0.000000            1            1.0   1.0000   1.0000      406\n",
      "0.058499 0.116998            2            2.0   1.0000   0.6580      262\n",
      "0.029249 0.000000            4            4.0   1.0000   1.0000      192\n",
      "0.039642 0.050034            8            8.0   1.0000   1.0000      254\n",
      "0.260827 0.482012           16           16.0   1.0000   0.5979       68\n",
      "0.277697 0.294567           32           32.0   1.0000   1.0000      534\n",
      "0.381055 0.484414           64           64.0   1.0000   0.6431      182\n",
      "0.304856 0.228656          128          128.0   1.0000   0.8595      542\n",
      "0.351446 0.398036          256          256.0   1.0000   0.6343      858\n",
      "0.375424 0.399402          512          512.0   1.0000   1.0000      270\n",
      "0.354018 0.332612         1024         1024.0   1.0000   0.4807      232\n",
      "0.326355 0.298692         2048         2048.0  -1.0000  -1.0000     1540\n",
      "0.329652 0.332948         4096         4096.0  -1.0000  -1.0000     1580\n",
      "\n",
      "finished run\n",
      "number of examples per pass = 7500\n",
      "passes used = 1\n",
      "weighted example sum = 7500.000000\n",
      "weighted label sum = 72.000000\n",
      "average loss = 0.334046\n",
      "best constant = 0.009600\n",
      "best constant's loss = 0.999908\n",
      "total feature number = 2757610\n"
     ]
    }
   ],
   "source": [
    "!\"C:\\\\Program Files\\\\VowpalWabbit\\\\vw.exe\" -i $PATH_TO_MOVIE_DATA/movie_reviews_model2.vw \\\n",
    "-t -d $PATH_TO_MOVIE_DATA/movie_reviews_valid.vw \\\n",
    "-p $PATH_TO_MOVIE_DATA/movie_valid_pred2.txt"
   ]
  },
  {
   "cell_type": "code",
   "execution_count": 43,
   "metadata": {},
   "outputs": [
    {
     "name": "stdout",
     "output_type": "stream",
     "text": [
      "Accuracy: 0.894\n",
      "AUC: 0.954\n"
     ]
    }
   ],
   "source": [
    "with open(os.path.join(PATH_TO_MOVIE_DATA, 'movie_valid_pred2.txt')) as pred_file:\n",
    "    valid_prediction = [float(label) \n",
    "                             for label in pred_file.readlines()]\n",
    "print(\"Accuracy: {}\".format(round(accuracy_score(valid_labels, \n",
    "               [int(pred_prob > 0) for pred_prob in valid_prediction]), 3)))\n",
    "print(\"AUC: {}\".format(round(roc_auc_score(valid_labels, valid_prediction), 3)))"
   ]
  },
  {
   "cell_type": "code",
   "execution_count": 44,
   "metadata": {},
   "outputs": [
    {
     "name": "stderr",
     "output_type": "stream",
     "text": [
      "Generating 2-grams for all namespaces.\n",
      "only testing\n",
      "predictions = C://temp//aclImdb/movie_test_pred2.txt\n",
      "Num weight bits = 18\n",
      "learning rate = 0.5\n",
      "initial_t = 0\n",
      "power_t = 0.5\n",
      "using no cache\n",
      "Reading datafile = C://temp//aclImdb/movie_reviews_test.vw\n",
      "num sources = 1\n",
      "average  since         example        example  current  current  current\n",
      "loss     last          counter         weight    label  predict features\n",
      "0.000000 0.000000            1            1.0  unknown  -0.0426      116\n",
      "0.000000 0.000000            2            2.0  unknown  -1.0000      204\n",
      "0.000000 0.000000            4            4.0  unknown  -1.0000      320\n",
      "0.000000 0.000000            8            8.0  unknown  -1.0000      728\n",
      "0.000000 0.000000           16           16.0  unknown   1.0000      636\n",
      "0.000000 0.000000           32           32.0  unknown   0.9573      188\n",
      "0.000000 0.000000           64           64.0  unknown  -0.4484      276\n",
      "0.000000 0.000000          128          128.0  unknown  -0.8634      182\n",
      "0.000000 0.000000          256          256.0  unknown  -0.3853      820\n",
      "0.000000 0.000000          512          512.0  unknown   1.0000      186\n",
      "0.000000 0.000000         1024         1024.0  unknown  -0.8601      804\n",
      "0.000000 0.000000         2048         2048.0  unknown  -0.8399      200\n",
      "0.000000 0.000000         4096         4096.0  unknown  -0.7178      278\n",
      "0.000000 0.000000         8192         8192.0  unknown   1.0000      362\n",
      "0.000000 0.000000        16384        16384.0  unknown  -1.0000      400\n",
      "\n",
      "finished run\n",
      "number of examples per pass = 25000\n",
      "passes used = 1\n",
      "weighted example sum = 25000.000000\n",
      "weighted label sum = 0.000000\n",
      "average loss = 0.000000\n",
      "total feature number = 9020110\n"
     ]
    }
   ],
   "source": [
    "!\"C:\\\\Program Files\\\\VowpalWabbit\\\\vw.exe\" -i $PATH_TO_MOVIE_DATA/movie_reviews_model2.vw \\\n",
    "-t -d $PATH_TO_MOVIE_DATA/movie_reviews_test.vw \\\n",
    "-p $PATH_TO_MOVIE_DATA/movie_test_pred2.txt"
   ]
  },
  {
   "cell_type": "code",
   "execution_count": 45,
   "metadata": {},
   "outputs": [
    {
     "name": "stdout",
     "output_type": "stream",
     "text": [
      "Accuracy: 0.888\n",
      "AUC: 0.952\n"
     ]
    }
   ],
   "source": [
    "with open(os.path.join(PATH_TO_MOVIE_DATA, 'movie_test_pred2.txt')) as pred_file:\n",
    "    test_prediction2 = [float(label) \n",
    "                             for label in pred_file.readlines()]\n",
    "print(\"Accuracy: {}\".format(round(accuracy_score(y_test, \n",
    "               [int(pred_prob > 0) for pred_prob in test_prediction2]), 3)))\n",
    "print(\"AUC: {}\".format(round(roc_auc_score(y_test, test_prediction2), 3)))"
   ]
  },
  {
   "cell_type": "markdown",
   "metadata": {},
   "source": [
    "Видим, что биграммы помогли повысить качество классификации."
   ]
  },
  {
   "cell_type": "markdown",
   "metadata": {},
   "source": [
    "## Часть 4. Применение Vowpal Wabbit к данным по посещению сайтов"
   ]
  },
  {
   "cell_type": "markdown",
   "metadata": {},
   "source": [
    "**Загрузим созданные ранее pickle-объекты, соответствующие разреженным данным [соревнования](https://inclass.kaggle.com/c/identify-me-if-you-can4/data), которые мы создали на прошлой неделе.**"
   ]
  },
  {
   "cell_type": "code",
   "execution_count": 5,
   "metadata": {
    "collapsed": true
   },
   "outputs": [],
   "source": []
  },
  {
   "cell_type": "code",
   "execution_count": 6,
   "metadata": {
    "collapsed": true
   },
   "outputs": [],
   "source": [
    "# Поменяйте на свой путь к данным\n",
    "PATH_TO_DATA = 'c://Users//Надя//Documents//GitHub//Coursera-machine-learning//final//project_web//week5' "
   ]
  },
  {
   "cell_type": "code",
   "execution_count": 7,
   "metadata": {
    "collapsed": true
   },
   "outputs": [],
   "source": [
    "with open(os.path.join(PATH_TO_DATA, 'X_train_sparse.pkl'), 'rb') as X_train_sparse_pkl:\n",
    "    X_train_sparse = pickle.load(X_train_sparse_pkl)\n",
    "with open(os.path.join(PATH_TO_DATA, 'X_test_sparse.pkl'), 'rb') as X_test_sparse_pkl:\n",
    "    X_test_sparse = pickle.load(X_test_sparse_pkl)\n",
    "with open(os.path.join(PATH_TO_DATA, 'train_target.pkl'), 'rb') as train_target_pkl:\n",
    "    y = pickle.load(train_target_pkl)"
   ]
  },
  {
   "cell_type": "code",
   "execution_count": 8,
   "metadata": {},
   "outputs": [
    {
     "data": {
      "text/plain": [
       "((182793, 36656), (46473, 36656))"
      ]
     },
     "execution_count": 8,
     "metadata": {},
     "output_type": "execute_result"
    }
   ],
   "source": [
    "X_train_sparse.shape, X_test_sparse.shape"
   ]
  },
  {
   "cell_type": "markdown",
   "metadata": {},
   "source": [
    "**Vowpal Wabbit любит, чтоб метки классов были распределены от 1 до K, где K – число классов в задаче классификации (в нашем случае – 550). Поэтому придется применить LabelEncoder, да еще и +1 потом добавить (LabelEncoder переводит метки в диапозон от 0 до K-1).**"
   ]
  },
  {
   "cell_type": "code",
   "execution_count": 9,
   "metadata": {
    "collapsed": true
   },
   "outputs": [],
   "source": [
    "class_encoder = LabelEncoder().fit(y)"
   ]
  },
  {
   "cell_type": "code",
   "execution_count": 10,
   "metadata": {
    "collapsed": true
   },
   "outputs": [],
   "source": [
    "y_for_vw = class_encoder.transform(y) + 1"
   ]
  },
  {
   "cell_type": "markdown",
   "metadata": {},
   "source": [
    "**Выделим обучающую и оставленную части исходной обучающей выборки.**"
   ]
  },
  {
   "cell_type": "code",
   "execution_count": 11,
   "metadata": {
    "collapsed": true
   },
   "outputs": [],
   "source": [
    "X_train, X_valid, y_train, y_valid = train_test_split(X_train_sparse, y_for_vw, test_size=0.3, \n",
    "                                                     random_state=17, stratify=y_for_vw)"
   ]
  },
  {
   "cell_type": "markdown",
   "metadata": {},
   "source": [
    "**Реализуйте функцию, переводящую разреженную матрицу в формат Vowpal Wabbit.**\n",
    "\n",
    "Вход:\n",
    " - X_sparse – разреженная матрица SciPy.sparse.csr_matrix\n",
    " - y (необяз.) - вектор ответов. Необязателен, поскольку тестовую матрицу будем обрабатывать этой же функцией\n",
    " - out_file – путь к файлу .vw, в который будет произведена запись\n",
    " \n",
    "Детали:\n",
    "- можно делать по-разному, но скорее всего поможет метод *nonzero* разреженной матрицы\n",
    "- в тестовой выборке на месте меток целевого класса можно писать произвольные, допустим, 1"
   ]
  },
  {
   "cell_type": "code",
   "execution_count": 21,
   "metadata": {
    "collapsed": true
   },
   "outputs": [],
   "source": [
    "def sparse_row_to_vw(row,y):\n",
    "    elems=row.nonzero()\n",
    "    vals=row[elems].tolist()[0]\n",
    "    elems=elems[1]\n",
    "    res=\"\"\n",
    "    for elem,val in zip(elems,vals):\n",
    "        res+=str(elem)+\":\"+str(val)+\" \"\n",
    "    return str(y)+\" | sites \"+res + '\\n'"
   ]
  },
  {
   "cell_type": "code",
   "execution_count": 22,
   "metadata": {
    "collapsed": true
   },
   "outputs": [],
   "source": [
    "def sparse_matrix_to_vw(X_sparse, y=None, out_file='tmp.vw'):\n",
    "    with open(out_file, 'w', encoding='utf-8') as vw_train_data: \n",
    "        for i in tqdm(range(X_sparse.shape[0])):\n",
    "            if y==None:\n",
    "                vw_train_data.write(sparse_row_to_vw(X_sparse[i], 1))\n",
    "            else:\n",
    "                vw_train_data.write(sparse_row_to_vw(X_sparse[i], y[i]))"
   ]
  },
  {
   "cell_type": "markdown",
   "metadata": {},
   "source": [
    "**Примените написанную функцию к части обучащей выборки (X_train, y_train), к отложенной выборке (X_valid, y_valid), ко всей обучающей выборке (X_train_sparse, y_for_vw) и ко всей тестовой выборке X_test_sparse.**"
   ]
  },
  {
   "cell_type": "code",
   "execution_count": 14,
   "metadata": {},
   "outputs": [
    {
     "name": "stderr",
     "output_type": "stream",
     "text": [
      "  0%|                                                                                       | 0/127955 [00:00<?, ?it/s]C:\\Anaconda\\lib\\site-packages\\ipykernel_launcher.py:4: FutureWarning: comparison to `None` will result in an elementwise object comparison in the future.\n",
      "  after removing the cwd from sys.path.\n",
      "100%|████████████████████████████████████████████████████████████████████████| 127955/127955 [00:33<00:00, 3773.13it/s]\n",
      "100%|██████████████████████████████████████████████████████████████████████████| 54838/54838 [00:16<00:00, 3263.65it/s]\n",
      "100%|████████████████████████████████████████████████████████████████████████| 182793/182793 [00:54<00:00, 3373.27it/s]\n",
      "100%|██████████████████████████████████████████████████████████████████████████| 46473/46473 [00:12<00:00, 3631.31it/s]\n"
     ]
    },
    {
     "name": "stdout",
     "output_type": "stream",
     "text": [
      "Wall time: 1min 57s\n"
     ]
    }
   ],
   "source": [
    "%%time\n",
    "sparse_matrix_to_vw(X_train, y_train, 'site_vw/train_part.vw')\n",
    "sparse_matrix_to_vw(X_valid, y_valid, 'site_vw/valid.vw')\n",
    "sparse_matrix_to_vw(X_train_sparse, y_for_vw, 'site_vw/train.vw')\n",
    "sparse_matrix_to_vw(X_test_sparse, out_file='site_vw/test.vw')"
   ]
  },
  {
   "cell_type": "code",
   "execution_count": 56,
   "metadata": {},
   "outputs": [
    {
     "name": "stdout",
     "output_type": "stream",
     "text": [
      "85 | sites 295:4 296:6\r\n",
      "76 | sites 10:1 89:1 79:1 126:1 11:1 87:1 52:1 111:1 88:2\r\n",
      "96 | sites 3000:1 2888:3 3961:6\r\n"
     ]
    }
   ],
   "source": [
    "!head -3 $PATH_TO_DATA/train_part.vw"
   ]
  },
  {
   "cell_type": "code",
   "execution_count": 57,
   "metadata": {},
   "outputs": [
    {
     "name": "stdout",
     "output_type": "stream",
     "text": [
      "347 | sites 1608:1 1231:1 1114:2 49:1\r\n",
      "189 | sites 7874:1 18532:1 18531:4 18533:4\r\n",
      "175 | sites 1199:1 17135:9\r\n"
     ]
    }
   ],
   "source": [
    "!head -3  $PATH_TO_DATA/valid.vw"
   ]
  },
  {
   "cell_type": "code",
   "execution_count": 58,
   "metadata": {},
   "outputs": [
    {
     "name": "stdout",
     "output_type": "stream",
     "text": [
      "262 | sites 23713:8 23720:2\r\n",
      "82 | sites 5320:3 45:2 8725:2 665:1 8727:1 8726:1\r\n",
      "16 | sites 303:8 309:1 19:1\r\n"
     ]
    }
   ],
   "source": [
    "!head -3 $PATH_TO_DATA/train.vw"
   ]
  },
  {
   "cell_type": "code",
   "execution_count": 59,
   "metadata": {},
   "outputs": [
    {
     "name": "stdout",
     "output_type": "stream",
     "text": [
      "1 | sites 308:2 300:1 91:1 9:1 312:1 309:1 307:1 305:1 304:1\r\n",
      "1 | sites 838:3 11:2 504:1 886:1 68:1 27:1 305:1\r\n",
      "1 | sites 190:2 189:2 8:2 192:2 191:1 2375:1\r\n"
     ]
    }
   ],
   "source": [
    "!head -3 $PATH_TO_DATA/test.vw"
   ]
  },
  {
   "cell_type": "markdown",
   "metadata": {},
   "source": [
    "**Обучите модель на выборке `train_part.vw`. Укажите, что решается задача классификации с 400 классами (*--oaa*), сделайте 3 прохода по выборке (*--passes*). Задайте некоторый кэш-файл (*--cache_file*, можно просто указать флаг -c), так VW будет быстрее делать все следующие после первого проходы по выборке (прошлый кэш-файл удаляется с помощью аргумента *-k*). Также укажите значение параметра b=26. Это число бит, используемых для хэширования, в данном случае нужно больше, чем 18 по умолчанию. Наконец, укажите *random_seed=17*. Остальные параметры пока не меняйте, далее уже в свободном режиме соревнования можете попробовать другие функции потерь.**"
   ]
  },
  {
   "cell_type": "code",
   "execution_count": 140,
   "metadata": {
    "collapsed": true
   },
   "outputs": [],
   "source": [
    "train_part_vw = os.path.join(PATH_TO_DATA, 'train_part.vw')\n",
    "valid_vw = os.path.join(PATH_TO_DATA, 'valid.vw')\n",
    "train_vw = os.path.join(PATH_TO_DATA, 'train.vw')\n",
    "test_vw = os.path.join(PATH_TO_DATA, 'test.vw')\n",
    "model = os.path.join(PATH_TO_DATA, 'vw_model.vw')\n",
    "pred = os.path.join(PATH_TO_DATA, 'vw_pred.csv')"
   ]
  },
  {
   "cell_type": "code",
   "execution_count": 15,
   "metadata": {},
   "outputs": [
    {
     "name": "stderr",
     "output_type": "stream",
     "text": [
      "final_regressor = site_vw/model.vw\n",
      "Num weight bits = 26\n",
      "learning rate = 0.5\n",
      "initial_t = 0\n",
      "power_t = 0.5\n",
      "decay_learning_rate = 1\n",
      "using cache_file = site_vw/train_part.vw.cache\n",
      "ignoring text input in favor of cache input\n",
      "num sources = 1\n",
      "average  since         example        example  current  current  current\n",
      "loss     last          counter         weight    label  predict features\n",
      "1.000000 1.000000            1            1.0       85        1        4\n",
      "1.000000 1.000000            2            2.0       76       85       11\n",
      "1.000000 1.000000            4            4.0      118       85        4\n",
      "1.000000 1.000000            8            8.0      256      118        3\n",
      "1.000000 1.000000           16           16.0      166      343        3\n",
      "1.000000 1.000000           32           32.0      178      364        5\n",
      "0.984375 0.968750           64           64.0      295       59       11\n",
      "0.992188 1.000000          128          128.0      387       75        6\n",
      "0.976563 0.960938          256          256.0       76       58        9\n",
      "0.957031 0.937500          512          512.0      299      192       10\n",
      "0.932617 0.908203         1024         1024.0      130      218        5\n",
      "0.920898 0.909180         2048         2048.0       59       59        7\n",
      "0.895264 0.869629         4096         4096.0      296      370        9\n",
      "0.863403 0.831543         8192         8192.0      298      298       10\n",
      "0.828979 0.794556        16384        16384.0      163      337        7\n",
      "0.789581 0.750183        32768        32768.0      346       15        8\n",
      "0.749252 0.708923        65536        65536.0       25       25        9\n",
      "0.701209 0.701209       131072       131072.0      298      298        7 h\n",
      "0.671691 0.642175       262144       262144.0      137      213        9 h\n",
      "\n",
      "finished run\n",
      "number of examples per pass = 115160\n",
      "passes used = 3\n",
      "weighted example sum = 345480.000000\n",
      "weighted label sum = 0.000000\n",
      "average loss = 0.637124 h\n",
      "total feature number = 2658624\n"
     ]
    },
    {
     "name": "stdout",
     "output_type": "stream",
     "text": [
      "Wall time: 49.3 s\n"
     ]
    }
   ],
   "source": [
    "%%time\n",
    "!\"C:\\\\Program Files\\\\VowpalWabbit\\\\vw.exe\" --oaa 400 site_vw/train_part.vw -f site_vw/model.vw --passes 3 -c -b 26 --random_seed 17"
   ]
  },
  {
   "cell_type": "markdown",
   "metadata": {},
   "source": [
    "**Запишите прогнозы на выборке *valid.vw* в *vw_valid_pred.csv*.**"
   ]
  },
  {
   "cell_type": "code",
   "execution_count": 16,
   "metadata": {},
   "outputs": [
    {
     "name": "stderr",
     "output_type": "stream",
     "text": [
      "only testing\n",
      "predictions = site_vw/vw_valid_pred.csv\n",
      "Num weight bits = 26\n",
      "learning rate = 0.5\n",
      "initial_t = 0\n",
      "power_t = 0.5\n",
      "using no cache\n",
      "Reading datafile = site_vw/valid.vw\n",
      "num sources = 1\n",
      "average  since         example        example  current  current  current\n",
      "loss     last          counter         weight    label  predict features\n",
      "1.000000 1.000000            1            1.0      347      328        6\n",
      "1.000000 1.000000            2            2.0      189      237        6\n",
      "0.750000 0.500000            4            4.0      239      231        7\n",
      "0.750000 0.750000            8            8.0       59      208        3\n",
      "0.687500 0.625000           16           16.0      226      194        8\n",
      "0.593750 0.500000           32           32.0      115      212        7\n",
      "0.718750 0.843750           64           64.0      363      202       12\n",
      "0.687500 0.656250          128          128.0      392      266        6\n",
      "0.644531 0.601563          256          256.0      310      345        8\n",
      "0.650391 0.656250          512          512.0      114      315       10\n",
      "0.651367 0.652344         1024         1024.0       49      333        4\n",
      "0.662109 0.672852         2048         2048.0       17      186       11\n",
      "0.657715 0.653320         4096         4096.0      187      385       10\n",
      "0.657104 0.656494         8192         8192.0      389      181        8\n",
      "0.648560 0.640015        16384        16384.0      208      208        8\n",
      "0.644165 0.639771        32768        32768.0      313      313       11\n",
      "\n",
      "finished run\n",
      "number of examples per pass = 54838\n",
      "passes used = 1\n",
      "weighted example sum = 54838.000000\n",
      "weighted label sum = 0.000000\n",
      "average loss = 0.640724\n",
      "total feature number = 420931\n"
     ]
    },
    {
     "name": "stdout",
     "output_type": "stream",
     "text": [
      "Wall time: 1.05 s\n"
     ]
    }
   ],
   "source": [
    "%%time\n",
    "!\"C:\\\\Program Files\\\\VowpalWabbit\\\\vw.exe\" -i site_vw/model.vw -t -d site_vw/valid.vw \\\n",
    "-p site_vw/vw_valid_pred.csv"
   ]
  },
  {
   "cell_type": "markdown",
   "metadata": {},
   "source": [
    "**Считайте прогнозы *kaggle_data/vw_valid_pred.csv*  из файла и посмотрите на долю правильных ответов на отложенной части.**"
   ]
  },
  {
   "cell_type": "code",
   "execution_count": 24,
   "metadata": {},
   "outputs": [],
   "source": [
    "vw_valid_pred = pd.read_csv('site_vw/vw_valid_pred.csv', header=None)\n",
    "#vw_valid_pred.head()\n",
    "score=accuracy_score(y_valid,vw_valid_pred)"
   ]
  },
  {
   "cell_type": "markdown",
   "metadata": {},
   "source": [
    "**Какой получается доля правильных ответов на отложенной выборке? Запишите в файл *answer6_1.txt*, округлив до 3 знаков после запятой.**"
   ]
  },
  {
   "cell_type": "code",
   "execution_count": 25,
   "metadata": {
    "collapsed": true
   },
   "outputs": [],
   "source": [
    "def write_answer_to_file(answer, file_address):\n",
    "    with open(file_address, 'w') as out_f:\n",
    "        out_f.write(str(answer))"
   ]
  },
  {
   "cell_type": "code",
   "execution_count": 26,
   "metadata": {
    "collapsed": true
   },
   "outputs": [],
   "source": [
    "write_answer_to_file(round(score,3),\n",
    "                     'answer6_1.txt')"
   ]
  },
  {
   "cell_type": "markdown",
   "metadata": {},
   "source": [
    "**Обучите модель с теми же параметрами на всей обучающей выборке – *train.vw*.**"
   ]
  },
  {
   "cell_type": "code",
   "execution_count": 64,
   "metadata": {},
   "outputs": [
    {
     "name": "stderr",
     "output_type": "stream",
     "text": [
      "final_regressor = model_filename\n",
      "Num weight bits = 26\n",
      "learning rate = 0.5\n",
      "initial_t = 0\n",
      "power_t = 0.5\n",
      "decay_learning_rate = 1\n",
      "creating cache_file = a.cache\n",
      "Reading datafile = a\n",
      "can't open 'a', sailing on!\n",
      "num sources = 0\n",
      "average  since         example        example  current  current  current\n",
      "loss     last          counter         weight    label  predict features\n",
      "\n",
      "finished run\n",
      "number of examples per pass = 0\n",
      "passes used = 3\n",
      "weighted example sum = 0.000000\n",
      "weighted label sum = 0.000000\n",
      "average loss = undefined (no holdout)\n",
      "total feature number = 0\n"
     ]
    },
    {
     "name": "stdout",
     "output_type": "stream",
     "text": [
      "Wall time: 648 ms\n"
     ]
    }
   ],
   "source": [
    "%%time\n",
    "!\"C:\\\\Program Files\\\\VowpalWabbit\\\\vw.exe\" --oaa 400 site_vw/train.vw -f site_vw/model_full.vw --passes 3 -c -b 26 --random_seed 17"
   ]
  },
  {
   "cell_type": "markdown",
   "metadata": {},
   "source": [
    "**Сделайте прогноз для тестовой выборки.**"
   ]
  },
  {
   "cell_type": "code",
   "execution_count": 28,
   "metadata": {},
   "outputs": [
    {
     "name": "stderr",
     "output_type": "stream",
     "text": [
      "only testing\n",
      "predictions = site_vw/vw_test_pred.csv\n",
      "Num weight bits = 26\n",
      "learning rate = 0.5\n",
      "initial_t = 0\n",
      "power_t = 0.5\n",
      "using no cache\n",
      "Reading datafile = site_vw/test.vw\n",
      "num sources = 1\n",
      "average  since         example        example  current  current  current\n",
      "loss     last          counter         weight    label  predict features\n",
      "1.000000 1.000000            1            1.0        1      338       11\n",
      "1.000000 1.000000            2            2.0        1       59        9\n",
      "1.000000 1.000000            4            4.0        1      265        3\n",
      "1.000000 1.000000            8            8.0        1      137        6\n",
      "1.000000 1.000000           16           16.0        1      273        8\n",
      "1.000000 1.000000           32           32.0        1      265        5\n",
      "1.000000 1.000000           64           64.0        1      298       12\n",
      "1.000000 1.000000          128          128.0        1      170        3\n",
      "1.000000 1.000000          256          256.0        1      112        3\n",
      "0.994141 0.988281          512          512.0        1      397        7\n",
      "0.992188 0.990234         1024         1024.0        1      202       11\n",
      "0.994141 0.996094         2048         2048.0        1      181        5\n",
      "0.996582 0.999023         4096         4096.0        1      263       10\n",
      "0.997070 0.997559         8192         8192.0        1       99        5\n",
      "0.997009 0.996948        16384        16384.0        1      326        5\n",
      "0.996399 0.995789        32768        32768.0        1       10        9\n",
      "\n",
      "finished run\n",
      "number of examples per pass = 46473\n",
      "passes used = 1\n",
      "weighted example sum = 46473.000000\n",
      "weighted label sum = 0.000000\n",
      "average loss = 0.996665\n",
      "total feature number = 347247\n"
     ]
    },
    {
     "name": "stdout",
     "output_type": "stream",
     "text": [
      "Wall time: 1.04 s\n"
     ]
    }
   ],
   "source": [
    "%%time\n",
    "!\"C:\\\\Program Files\\\\VowpalWabbit\\\\vw.exe\" -i site_vw/model_full.vw -t -d site_vw/test.vw \\\n",
    "-p site_vw/vw_test_pred.csv"
   ]
  },
  {
   "cell_type": "markdown",
   "metadata": {},
   "source": [
    "**Запишите прогноз в файл, примените обратное преобразование меток (был LabelEncoder и потом +1 в меткам) и отправьте решение на Kaggle.**"
   ]
  },
  {
   "cell_type": "code",
   "execution_count": 14,
   "metadata": {
    "collapsed": true
   },
   "outputs": [],
   "source": [
    "def write_to_submission_file(predicted_labels, out_file,\n",
    "                             target='user_id', index_label=\"session_id\"):\n",
    "    # turn predictions into data frame and save as csv file\n",
    "    predicted_df = pd.DataFrame(predicted_labels,\n",
    "                                index = np.arange(1, predicted_labels.shape[0] + 1),\n",
    "                                columns=[target])\n",
    "    predicted_df.to_csv(out_file, index_label=index_label)\n",
    "def make_subm(pred_filename,class_encoder,sumb_filename):\n",
    "    vw_pred = pd.read_csv(pred_filename, header=None)\n",
    "    vw_pred=vw_pred.iloc[:,0].as_matrix()\n",
    "    vw_subm =class_encoder.inverse_transform(vw_pred-1)\n",
    "    write_to_submission_file(vw_subm, sumb_filename)"
   ]
  },
  {
   "cell_type": "code",
   "execution_count": 57,
   "metadata": {},
   "outputs": [],
   "source": [
    "\n",
    "make_subm('site_vw/vw_test_pred.csv',class_encoder,'site_vw/vw_pred.csv')"
   ]
  },
  {
   "cell_type": "markdown",
   "metadata": {},
   "source": [
    "## Напутствие\n",
    "\n",
    "Итак, мы познакомились с отличной библиотекой Vowpal Wabbit. Хотя это только начало: в VW реализованы матричные разложения и обучение с подкреплением, тематическое моделирование и активное обучение, name entity recognition и нейронные сети. Если Вам придется как-нибудь обучать модель на терабайте данных, при этом расходуя несколько мегабайт оперативной памяти, Вы наверняка вернетесь к этому тьюториалу (если, конечно, не выпустят библиотеку с более удобным интерфейсом). Хочется верить, что именно эта часть проекта оказалось самой полезной!"
   ]
  },
  {
   "cell_type": "markdown",
   "metadata": {},
   "source": [
    "## Пути улучшения\n",
    "На этой неделе, как видите, заданий под моим руководством мало – намного больше именно тьюториалов по Vowpal Wabbit. Зато, как и на прошлой неделе, дается время на соревнование и офрмление финального проекта.\n",
    "Что еще можно попробовать:\n",
    " - Использовать ранее построенные признаки для улучшения модели\n",
    " - Настройть параметры Vowpal Wabbit с hyperopt\n",
    " - Попробовать TF-IDF и n-граммы\n",
    "\n",
    "На следующей, заключительной, неделе мы оформим всю работу над проектом в виде одного файла (`html`, `pdf` или `ipynb`) и будем проверять проекты друг друга."
   ]
  },
  {
   "cell_type": "code",
   "execution_count": 16,
   "metadata": {
    "collapsed": true
   },
   "outputs": [],
   "source": [
    "PATH_TO_DATA='model3/'"
   ]
  },
  {
   "cell_type": "code",
   "execution_count": 17,
   "metadata": {},
   "outputs": [],
   "source": [
    "with open(os.path.join(PATH_TO_DATA, 'X_train_sparse_win.pkl'), 'rb') as X_train_sparse_pkl:\n",
    "    X_train_sparse = pickle.load(X_train_sparse_pkl)\n",
    "with open(os.path.join(PATH_TO_DATA, 'X_test_sparse_win.pkl'), 'rb') as X_test_sparse_pkl:\n",
    "    X_test_sparse = pickle.load(X_test_sparse_pkl)\n",
    "with open(os.path.join(PATH_TO_DATA, 'train_target_win.pkl'), 'rb') as train_target_pkl:\n",
    "    y = pickle.load(train_target_pkl)"
   ]
  },
  {
   "cell_type": "code",
   "execution_count": 26,
   "metadata": {},
   "outputs": [
    {
     "data": {
      "text/plain": [
       "((587390, 36656), (46473, 36656))"
      ]
     },
     "execution_count": 26,
     "metadata": {},
     "output_type": "execute_result"
    }
   ],
   "source": [
    "X_train_sparse.shape, X_test_sparse.shape"
   ]
  },
  {
   "cell_type": "code",
   "execution_count": 19,
   "metadata": {},
   "outputs": [],
   "source": [
    "class_encoder = LabelEncoder().fit(y)\n",
    "y_for_vw = class_encoder.transform(y) + 1"
   ]
  },
  {
   "cell_type": "code",
   "execution_count": 23,
   "metadata": {},
   "outputs": [
    {
     "name": "stderr",
     "output_type": "stream",
     "text": [
      "  0%|                                                                                       | 0/587390 [00:00<?, ?it/s]C:\\Anaconda\\lib\\site-packages\\ipykernel_launcher.py:4: FutureWarning: comparison to `None` will result in an elementwise object comparison in the future.\n",
      "  after removing the cwd from sys.path.\n",
      "100%|████████████████████████████████████████████████████████████████████████| 587390/587390 [02:30<00:00, 3915.28it/s]\n",
      "100%|██████████████████████████████████████████████████████████████████████████| 46473/46473 [00:13<00:00, 3371.12it/s]\n"
     ]
    }
   ],
   "source": [
    "sparse_matrix_to_vw(X_train_sparse, y_for_vw, os.path.join(PATH_TO_DATA, 'train.vw'))\n",
    "sparse_matrix_to_vw(X_test_sparse, out_file=os.path.join(PATH_TO_DATA, 'test.vw'))"
   ]
  },
  {
   "cell_type": "code",
   "execution_count": 27,
   "metadata": {},
   "outputs": [
    {
     "name": "stderr",
     "output_type": "stream",
     "text": [
      "final_regressor = model3/model.vw\n",
      "Num weight bits = 30\n",
      "learning rate = 0.5\n",
      "initial_t = 0\n",
      "power_t = 0.5\n",
      "decay_learning_rate = 1\n",
      "WARNING: cache file is ignored as it's made with less bit precision than required!\n",
      "creating cache_file = model3/train.vw.cache\n",
      "Reading datafile = model3/train.vw\n",
      "num sources = 1\n",
      "average  since         example        example  current  current  current\n",
      "loss     last          counter         weight    label  predict features\n",
      "1.000000 1.000000            1            1.0       59        1        7\n",
      "0.500000 0.000000            2            2.0       59       59        8\n",
      "0.250000 0.000000            4            4.0       59       59        9\n",
      "0.125000 0.000000            8            8.0       59       59        5\n",
      "0.062500 0.000000           16           16.0       59       59        5\n",
      "0.031250 0.000000           32           32.0       59       59        9\n",
      "0.015625 0.000000           64           64.0       59       59        6\n",
      "0.007813 0.000000          128          128.0       59       59       10\n",
      "0.003906 0.000000          256          256.0       59       59       10\n",
      "0.001953 0.000000          512          512.0       59       59        7\n",
      "0.000977 0.000000         1024         1024.0       59       59       12\n",
      "0.000488 0.000000         2048         2048.0       59       59        5\n",
      "0.000244 0.000000         4096         4096.0       59       59       10\n",
      "0.000122 0.000000         8192         8192.0       59       59        9\n",
      "0.000427 0.000732        16384        16384.0      162      162        7\n",
      "0.000549 0.000671        32768        32768.0      144      144       11\n",
      "0.000671 0.000793        65536        65536.0      317      317        6\n",
      "0.000961 0.001251       131072       131072.0      186      186        9\n",
      "0.001575 0.002190       262144       262144.0      322      322        9\n",
      "0.003162 0.004749       524288       524288.0      145      145       12\n",
      "0.004120 0.004120      1048576      1048576.0      172      172        7 h\n",
      "\n",
      "finished run\n",
      "number of examples per pass = 528651\n",
      "passes used = 3\n",
      "weighted example sum = 1585953.000000\n",
      "weighted label sum = 0.000000\n",
      "average loss = 0.002417 h\n",
      "total feature number = 12506616\n"
     ]
    }
   ],
   "source": [
    "!\"C:\\\\Program Files\\\\VowpalWabbit\\\\vw.exe\" --oaa 400 model3/train.vw -f model3/model.vw  -b 29 --random_seed 17 --passes 3 -c"
   ]
  },
  {
   "cell_type": "code",
   "execution_count": 36,
   "metadata": {},
   "outputs": [
    {
     "name": "stderr",
     "output_type": "stream",
     "text": [
      "only testing\n",
      "predictions = model3/vw_test_pred.csv\n",
      "Num weight bits = 30\n",
      "learning rate = 0.5\n",
      "initial_t = 0\n",
      "power_t = 0.5\n",
      "using no cache\n",
      "Reading datafile = model3/test_2.vw\n",
      "num sources = 1\n",
      "average  since         example        example  current  current  current\n",
      "loss     last          counter         weight    label  predict features\n",
      "1.000000 1.000000            1            1.0        1      247       11\n",
      "1.000000 1.000000            2            2.0        1      247        9\n",
      "1.000000 1.000000            4            4.0        1      247        3\n",
      "1.000000 1.000000            8            8.0        1      247        6\n",
      "1.000000 1.000000           16           16.0        1      247        8\n",
      "1.000000 1.000000           32           32.0        1      247        5\n",
      "1.000000 1.000000           64           64.0        1      247       12\n",
      "1.000000 1.000000          128          128.0        1      247        3\n",
      "1.000000 1.000000          256          256.0        1      247        3\n",
      "1.000000 1.000000          512          512.0        1      376        7\n",
      "1.000000 1.000000         1024         1024.0        1      247       11\n",
      "1.000000 1.000000         2048         2048.0        1      247        5\n",
      "0.999756 0.999512         4096         4096.0        1      376       10\n",
      "0.999390 0.999023         8192         8192.0        1      247        5\n",
      "0.999634 0.999878        16384        16384.0        1      247        5\n",
      "0.999451 0.999268        32768        32768.0        1      247        9\n",
      "\n",
      "finished run\n",
      "number of examples per pass = 46473\n",
      "passes used = 1\n",
      "weighted example sum = 46473.000000\n",
      "weighted label sum = 0.000000\n",
      "average loss = 0.999505\n",
      "total feature number = 347247\n"
     ]
    }
   ],
   "source": [
    "!\"C:\\\\Program Files\\\\VowpalWabbit\\\\vw.exe\" -i model3/model.vw -t -d model3/test_2.vw \\\n",
    "-p model3/vw_test_pred.csv"
   ]
  },
  {
   "cell_type": "code",
   "execution_count": 37,
   "metadata": {},
   "outputs": [],
   "source": [
    "make_subm('model3/vw_test_pred.csv',class_encoder,'model3/vw_pred.csv')"
   ]
  },
  {
   "cell_type": "markdown",
   "metadata": {},
   "source": [
    "Отложенная выборка"
   ]
  },
  {
   "cell_type": "code",
   "execution_count": 31,
   "metadata": {
    "collapsed": true
   },
   "outputs": [],
   "source": [
    "X_train, X_valid, y_train, y_valid = train_test_split(X_train_sparse, y_for_vw, test_size=0.3, \n",
    "                                                     random_state=17, stratify=y_for_vw)"
   ]
  },
  {
   "cell_type": "code",
   "execution_count": 32,
   "metadata": {},
   "outputs": [
    {
     "name": "stderr",
     "output_type": "stream",
     "text": [
      "  0%|                                                                                       | 0/411173 [00:00<?, ?it/s]C:\\Anaconda\\lib\\site-packages\\ipykernel_launcher.py:4: FutureWarning: comparison to `None` will result in an elementwise object comparison in the future.\n",
      "  after removing the cwd from sys.path.\n",
      "100%|████████████████████████████████████████████████████████████████████████| 411173/411173 [01:54<00:00, 3594.20it/s]\n",
      "100%|████████████████████████████████████████████████████████████████████████| 176217/176217 [00:47<00:00, 3700.12it/s]\n"
     ]
    }
   ],
   "source": [
    "sparse_matrix_to_vw(X_train, y_train, 'model3/train_part.vw')\n",
    "sparse_matrix_to_vw(X_valid, y_valid, 'model3/valid.vw')"
   ]
  },
  {
   "cell_type": "code",
   "execution_count": 33,
   "metadata": {},
   "outputs": [
    {
     "name": "stderr",
     "output_type": "stream",
     "text": [
      "final_regressor = model3/model_part.vw\n",
      "Num weight bits = 28\n",
      "learning rate = 0.5\n",
      "initial_t = 0\n",
      "power_t = 0.5\n",
      "decay_learning_rate = 1\n",
      "creating cache_file = model3/train_part.vw.cache\n",
      "Reading datafile = model3/train_part.vw\n",
      "num sources = 1\n",
      "average  since         example        example  current  current  current\n",
      "loss     last          counter         weight    label  predict features\n",
      "1.000000 1.000000            1            1.0       22        1        3\n",
      "1.000000 1.000000            2            2.0      221       22        6\n",
      "1.000000 1.000000            4            4.0      213       22        8\n",
      "1.000000 1.000000            8            8.0      329       22        6\n",
      "0.937500 0.875000           16           16.0      342      397        5\n",
      "0.937500 0.937500           32           32.0      198      119        9\n",
      "0.968750 1.000000           64           64.0      178      243        7\n",
      "0.984375 1.000000          128          128.0       59       35        7\n",
      "0.964844 0.945313          256          256.0      304      177        4\n",
      "0.949219 0.933594          512          512.0      128      364       10\n",
      "0.942383 0.935547         1024         1024.0      197      339        9\n",
      "0.923828 0.905273         2048         2048.0      162      324        7\n",
      "0.888672 0.853516         4096         4096.0       80      292       10\n",
      "0.847778 0.806885         8192         8192.0      106      163        6\n",
      "0.810425 0.773071        16384        16384.0       59       59        8\n",
      "0.760620 0.710815        32768        32768.0       21       21       11\n",
      "0.711792 0.662964        65536        65536.0       16      257        5\n",
      "0.665649 0.619507       131072       131072.0      311      372        8\n",
      "0.623039 0.580429       262144       262144.0      281      281        9\n",
      "0.587815 0.587815       524288       524288.0      365      365        5 h\n",
      "0.559984 0.532152      1048576      1048576.0       68       68        8 h\n",
      "\n",
      "finished run\n",
      "number of examples per pass = 370056\n",
      "passes used = 3\n",
      "weighted example sum = 1110168.000000\n",
      "weighted label sum = 0.000000\n",
      "average loss = 0.530243 h\n",
      "total feature number = 8755644\n"
     ]
    },
    {
     "name": "stdout",
     "output_type": "stream",
     "text": [
      "Wall time: 1min 39s\n"
     ]
    }
   ],
   "source": [
    "%%time\n",
    "!\"C:\\\\Program Files\\\\VowpalWabbit\\\\vw.exe\" --oaa 400 model3/train_part.vw -f model3/model_part.vw --passes 3 -c -b 28 --random_seed 17"
   ]
  },
  {
   "cell_type": "code",
   "execution_count": 34,
   "metadata": {},
   "outputs": [
    {
     "name": "stderr",
     "output_type": "stream",
     "text": [
      "only testing\n",
      "predictions = model3/vw_valid_pred.csv\n",
      "Num weight bits = 28\n",
      "learning rate = 0.5\n",
      "initial_t = 0\n",
      "power_t = 0.5\n",
      "using no cache\n",
      "Reading datafile = model3/valid.vw\n",
      "num sources = 1\n",
      "average  since         example        example  current  current  current\n",
      "loss     last          counter         weight    label  predict features\n",
      "1.000000 1.000000            1            1.0      208       96        8\n",
      "0.500000 0.000000            2            2.0      264      264        8\n",
      "0.750000 1.000000            4            4.0      137       46        8\n",
      "0.875000 1.000000            8            8.0      399       70        7\n",
      "0.687500 0.500000           16           16.0      186      326       10\n",
      "0.625000 0.562500           32           32.0      310      221       12\n",
      "0.546875 0.468750           64           64.0      264      264        9\n",
      "0.531250 0.515625          128          128.0      291       59        7\n",
      "0.550781 0.570313          256          256.0      231      279        5\n",
      "0.539063 0.527344          512          512.0      222      223       10\n",
      "0.543945 0.548828         1024         1024.0      199      170        4\n",
      "0.531738 0.519531         2048         2048.0       99      179        5\n",
      "0.538818 0.545898         4096         4096.0       48      305        9\n",
      "0.532593 0.526367         8192         8192.0      295      228        8\n",
      "0.526245 0.519897        16384        16384.0      354      354        7\n",
      "0.522217 0.518188        32768        32768.0      397      397       11\n",
      "0.521133 0.520050        65536        65536.0      244      244        8\n",
      "0.522583 0.524033       131072       131072.0      148      148        9\n",
      "\n",
      "finished run\n",
      "number of examples per pass = 176217\n",
      "passes used = 1\n",
      "weighted example sum = 176217.000000\n",
      "weighted label sum = 0.000000\n",
      "average loss = 0.523116\n",
      "total feature number = 1389446\n"
     ]
    },
    {
     "name": "stdout",
     "output_type": "stream",
     "text": [
      "Wall time: 3.88 s\n"
     ]
    }
   ],
   "source": [
    "%%time\n",
    "!\"C:\\\\Program Files\\\\VowpalWabbit\\\\vw.exe\" -i model3/model_part.vw -t -d model3/valid.vw \\\n",
    "-p model3/vw_valid_pred.csv"
   ]
  },
  {
   "cell_type": "code",
   "execution_count": 35,
   "metadata": {},
   "outputs": [
    {
     "data": {
      "text/plain": [
       "0.47688361508821508"
      ]
     },
     "execution_count": 35,
     "metadata": {},
     "output_type": "execute_result"
    }
   ],
   "source": [
    "vw_valid_pred = pd.read_csv('model3/vw_valid_pred.csv', header=None)\n",
    "score=accuracy_score(y_valid,vw_valid_pred)\n",
    "score"
   ]
  },
  {
   "cell_type": "code",
   "execution_count": null,
   "metadata": {
    "collapsed": true
   },
   "outputs": [],
   "source": []
  }
 ],
 "metadata": {
  "anaconda-cloud": {},
  "kernelspec": {
   "display_name": "Python 3",
   "language": "python",
   "name": "python3"
  },
  "language_info": {
   "codemirror_mode": {
    "name": "ipython",
    "version": 3
   },
   "file_extension": ".py",
   "mimetype": "text/x-python",
   "name": "python",
   "nbconvert_exporter": "python",
   "pygments_lexer": "ipython3",
   "version": "3.5.3"
  }
 },
 "nbformat": 4,
 "nbformat_minor": 1
}
